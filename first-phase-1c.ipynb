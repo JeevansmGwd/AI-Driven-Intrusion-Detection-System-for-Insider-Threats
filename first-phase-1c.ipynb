{
 "cells": [
  {
   "cell_type": "code",
   "execution_count": 16,
   "id": "6e03ee95-f01a-46da-95aa-d59b659fd15c",
   "metadata": {},
   "outputs": [],
   "source": [
    "import pandas as pd\n",
    "\n",
    "# Load the logon.csv dataset\n",
    "logon_data = pd.read_csv(\"../../autonomous-cybersecurity/datasets/r1/logon.csv\", nrows=10000)"
   ]
  },
  {
   "cell_type": "code",
   "execution_count": 17,
   "id": "523d5ab2-7168-40ea-a73e-68cae212c4c5",
   "metadata": {},
   "outputs": [
    {
     "data": {
      "text/plain": [
       "Index(['id', 'date', 'user', 'pc', 'activity'], dtype='object')"
      ]
     },
     "execution_count": 17,
     "metadata": {},
     "output_type": "execute_result"
    }
   ],
   "source": [
    "logon_data.columns"
   ]
  },
  {
   "cell_type": "code",
   "execution_count": 18,
   "id": "bb648578-1674-49e4-9386-807c52771ad0",
   "metadata": {},
   "outputs": [],
   "source": [
    "\n",
    "# Pivot the activity column to create separate columns for logon and logoff\n",
    "pivoted_data_logon = logon_data.pivot_table(index=['date', 'user'], columns='activity', aggfunc='size', fill_value=0)"
   ]
  },
  {
   "cell_type": "code",
   "execution_count": 20,
   "id": "d1f735f4-5dcd-41f3-b800-812f08d6a208",
   "metadata": {
    "scrolled": true
   },
   "outputs": [
    {
     "data": {
      "text/html": [
       "<div>\n",
       "<style scoped>\n",
       "    .dataframe tbody tr th:only-of-type {\n",
       "        vertical-align: middle;\n",
       "    }\n",
       "\n",
       "    .dataframe tbody tr th {\n",
       "        vertical-align: top;\n",
       "    }\n",
       "\n",
       "    .dataframe thead th {\n",
       "        text-align: right;\n",
       "    }\n",
       "</style>\n",
       "<table border=\"1\" class=\"dataframe\">\n",
       "  <thead>\n",
       "    <tr style=\"text-align: right;\">\n",
       "      <th></th>\n",
       "      <th>activity</th>\n",
       "      <th>Logoff</th>\n",
       "      <th>Logon</th>\n",
       "    </tr>\n",
       "    <tr>\n",
       "      <th>date</th>\n",
       "      <th>user</th>\n",
       "      <th></th>\n",
       "      <th></th>\n",
       "    </tr>\n",
       "  </thead>\n",
       "  <tbody>\n",
       "    <tr>\n",
       "      <th>01/04/2010 00:10:37</th>\n",
       "      <th>DTAA/KEE0997</th>\n",
       "      <td>0</td>\n",
       "      <td>1</td>\n",
       "    </tr>\n",
       "    <tr>\n",
       "      <th>01/04/2010 00:52:16</th>\n",
       "      <th>DTAA/KEE0997</th>\n",
       "      <td>1</td>\n",
       "      <td>0</td>\n",
       "    </tr>\n",
       "    <tr>\n",
       "      <th>01/04/2010 01:17:20</th>\n",
       "      <th>DTAA/KEE0997</th>\n",
       "      <td>0</td>\n",
       "      <td>1</td>\n",
       "    </tr>\n",
       "    <tr>\n",
       "      <th>01/04/2010 01:28:34</th>\n",
       "      <th>DTAA/KEE0997</th>\n",
       "      <td>1</td>\n",
       "      <td>0</td>\n",
       "    </tr>\n",
       "    <tr>\n",
       "      <th>01/04/2010 01:57:30</th>\n",
       "      <th>DTAA/BJM0992</th>\n",
       "      <td>0</td>\n",
       "      <td>1</td>\n",
       "    </tr>\n",
       "    <tr>\n",
       "      <th>...</th>\n",
       "      <th>...</th>\n",
       "      <td>...</td>\n",
       "      <td>...</td>\n",
       "    </tr>\n",
       "    <tr>\n",
       "      <th>01/07/2010 18:49:33</th>\n",
       "      <th>DTAA/BRB0908</th>\n",
       "      <td>1</td>\n",
       "      <td>0</td>\n",
       "    </tr>\n",
       "    <tr>\n",
       "      <th>01/07/2010 18:49:51</th>\n",
       "      <th>DTAA/NJM0476</th>\n",
       "      <td>1</td>\n",
       "      <td>0</td>\n",
       "    </tr>\n",
       "    <tr>\n",
       "      <th>01/07/2010 18:49:53</th>\n",
       "      <th>DTAA/WBW0591</th>\n",
       "      <td>1</td>\n",
       "      <td>0</td>\n",
       "    </tr>\n",
       "    <tr>\n",
       "      <th>01/07/2010 18:49:55</th>\n",
       "      <th>DTAA/IJG0454</th>\n",
       "      <td>1</td>\n",
       "      <td>0</td>\n",
       "    </tr>\n",
       "    <tr>\n",
       "      <th>01/07/2010 18:50:02</th>\n",
       "      <th>DTAA/RZW0369</th>\n",
       "      <td>1</td>\n",
       "      <td>0</td>\n",
       "    </tr>\n",
       "  </tbody>\n",
       "</table>\n",
       "<p>10000 rows × 2 columns</p>\n",
       "</div>"
      ],
      "text/plain": [
       "activity                          Logoff  Logon\n",
       "date                user                       \n",
       "01/04/2010 00:10:37 DTAA/KEE0997       0      1\n",
       "01/04/2010 00:52:16 DTAA/KEE0997       1      0\n",
       "01/04/2010 01:17:20 DTAA/KEE0997       0      1\n",
       "01/04/2010 01:28:34 DTAA/KEE0997       1      0\n",
       "01/04/2010 01:57:30 DTAA/BJM0992       0      1\n",
       "...                                  ...    ...\n",
       "01/07/2010 18:49:33 DTAA/BRB0908       1      0\n",
       "01/07/2010 18:49:51 DTAA/NJM0476       1      0\n",
       "01/07/2010 18:49:53 DTAA/WBW0591       1      0\n",
       "01/07/2010 18:49:55 DTAA/IJG0454       1      0\n",
       "01/07/2010 18:50:02 DTAA/RZW0369       1      0\n",
       "\n",
       "[10000 rows x 2 columns]"
      ]
     },
     "execution_count": 20,
     "metadata": {},
     "output_type": "execute_result"
    }
   ],
   "source": [
    "pivoted_data_logon"
   ]
  },
  {
   "cell_type": "code",
   "execution_count": 21,
   "id": "a550f1d9-f77b-4eff-a9b4-2769ff0eff0e",
   "metadata": {},
   "outputs": [],
   "source": [
    "\n",
    "# Reset the index to get the desired column structure\n",
    "pivoted_data_logon.reset_index(inplace=True)"
   ]
  },
  {
   "cell_type": "code",
   "execution_count": 23,
   "id": "cf47768a-ccf7-4c30-a4c2-22108bce2ec9",
   "metadata": {},
   "outputs": [
    {
     "name": "stdout",
     "output_type": "stream",
     "text": [
      "                     date          user  logon  logoff\n",
      "0     01/04/2010 00:10:37  DTAA/KEE0997      0       1\n",
      "1     01/04/2010 00:52:16  DTAA/KEE0997      1       0\n",
      "2     01/04/2010 01:17:20  DTAA/KEE0997      0       1\n",
      "3     01/04/2010 01:28:34  DTAA/KEE0997      1       0\n",
      "4     01/04/2010 01:57:30  DTAA/BJM0992      0       1\n",
      "...                   ...           ...    ...     ...\n",
      "9995  01/07/2010 18:49:33  DTAA/BRB0908      1       0\n",
      "9996  01/07/2010 18:49:51  DTAA/NJM0476      1       0\n",
      "9997  01/07/2010 18:49:53  DTAA/WBW0591      1       0\n",
      "9998  01/07/2010 18:49:55  DTAA/IJG0454      1       0\n",
      "9999  01/07/2010 18:50:02  DTAA/RZW0369      1       0\n",
      "\n",
      "[10000 rows x 4 columns]\n"
     ]
    }
   ],
   "source": [
    "\n",
    "# Rename the columns\n",
    "pivoted_data_logon.columns = ['date', 'user', 'logon', 'logoff']\n",
    "print(pivoted_data_logon)"
   ]
  },
  {
   "cell_type": "code",
   "execution_count": 28,
   "id": "7be1a787-40e7-4cac-9982-a1881e8f7de3",
   "metadata": {},
   "outputs": [
    {
     "data": {
      "text/plain": [
       "Index(['id', 'date', 'user', 'pc', 'activity'], dtype='object')"
      ]
     },
     "execution_count": 28,
     "metadata": {},
     "output_type": "execute_result"
    }
   ],
   "source": [
    "device_data = pd.read_csv(\"../../autonomous-cybersecurity/datasets/r1/device.csv\", nrows=10000)\n",
    "device_data.columns\n"
   ]
  },
  {
   "cell_type": "code",
   "execution_count": 29,
   "id": "e99ae7f5-cdec-4c2b-bfa2-d6a46e996087",
   "metadata": {},
   "outputs": [],
   "source": [
    "# Pivot the activity column to create separate columns for connect and disconnect\n",
    "pivoted_data_device = device_data.pivot_table(index=['date', 'user'], columns='activity', aggfunc='size', fill_value=0)"
   ]
  },
  {
   "cell_type": "code",
   "execution_count": 30,
   "id": "6c48696e-7e09-4b8d-8c34-a1bc43939236",
   "metadata": {},
   "outputs": [
    {
     "data": {
      "text/html": [
       "<div>\n",
       "<style scoped>\n",
       "    .dataframe tbody tr th:only-of-type {\n",
       "        vertical-align: middle;\n",
       "    }\n",
       "\n",
       "    .dataframe tbody tr th {\n",
       "        vertical-align: top;\n",
       "    }\n",
       "\n",
       "    .dataframe thead th {\n",
       "        text-align: right;\n",
       "    }\n",
       "</style>\n",
       "<table border=\"1\" class=\"dataframe\">\n",
       "  <thead>\n",
       "    <tr style=\"text-align: right;\">\n",
       "      <th>activity</th>\n",
       "      <th>date</th>\n",
       "      <th>user</th>\n",
       "      <th>Connect</th>\n",
       "      <th>Disconnect</th>\n",
       "    </tr>\n",
       "  </thead>\n",
       "  <tbody>\n",
       "    <tr>\n",
       "      <th>0</th>\n",
       "      <td>01/04/2010 07:12:31</td>\n",
       "      <td>DTAA/RES0962</td>\n",
       "      <td>1</td>\n",
       "      <td>0</td>\n",
       "    </tr>\n",
       "    <tr>\n",
       "      <th>1</th>\n",
       "      <td>01/04/2010 07:35:40</td>\n",
       "      <td>DTAA/BJC0569</td>\n",
       "      <td>1</td>\n",
       "      <td>0</td>\n",
       "    </tr>\n",
       "    <tr>\n",
       "      <th>2</th>\n",
       "      <td>01/04/2010 08:00:38</td>\n",
       "      <td>DTAA/EMZ0196</td>\n",
       "      <td>1</td>\n",
       "      <td>0</td>\n",
       "    </tr>\n",
       "    <tr>\n",
       "      <th>3</th>\n",
       "      <td>01/04/2010 08:02:14</td>\n",
       "      <td>DTAA/ZKH0388</td>\n",
       "      <td>1</td>\n",
       "      <td>0</td>\n",
       "    </tr>\n",
       "    <tr>\n",
       "      <th>4</th>\n",
       "      <td>01/04/2010 08:20:17</td>\n",
       "      <td>DTAA/RES0962</td>\n",
       "      <td>0</td>\n",
       "      <td>1</td>\n",
       "    </tr>\n",
       "    <tr>\n",
       "      <th>...</th>\n",
       "      <td>...</td>\n",
       "      <td>...</td>\n",
       "      <td>...</td>\n",
       "      <td>...</td>\n",
       "    </tr>\n",
       "    <tr>\n",
       "      <th>9995</th>\n",
       "      <td>03/16/2010 10:00:43</td>\n",
       "      <td>DTAA/RVS0852</td>\n",
       "      <td>1</td>\n",
       "      <td>0</td>\n",
       "    </tr>\n",
       "    <tr>\n",
       "      <th>9996</th>\n",
       "      <td>03/16/2010 10:03:48</td>\n",
       "      <td>DTAA/XQW0354</td>\n",
       "      <td>1</td>\n",
       "      <td>0</td>\n",
       "    </tr>\n",
       "    <tr>\n",
       "      <th>9997</th>\n",
       "      <td>03/16/2010 10:05:58</td>\n",
       "      <td>DTAA/VCG0663</td>\n",
       "      <td>1</td>\n",
       "      <td>0</td>\n",
       "    </tr>\n",
       "    <tr>\n",
       "      <th>9998</th>\n",
       "      <td>03/16/2010 10:10:56</td>\n",
       "      <td>DTAA/AJB0370</td>\n",
       "      <td>0</td>\n",
       "      <td>1</td>\n",
       "    </tr>\n",
       "    <tr>\n",
       "      <th>9999</th>\n",
       "      <td>03/16/2010 10:21:22</td>\n",
       "      <td>DTAA/CTH0856</td>\n",
       "      <td>1</td>\n",
       "      <td>0</td>\n",
       "    </tr>\n",
       "  </tbody>\n",
       "</table>\n",
       "<p>10000 rows × 4 columns</p>\n",
       "</div>"
      ],
      "text/plain": [
       "activity                 date          user  Connect  Disconnect\n",
       "0         01/04/2010 07:12:31  DTAA/RES0962        1           0\n",
       "1         01/04/2010 07:35:40  DTAA/BJC0569        1           0\n",
       "2         01/04/2010 08:00:38  DTAA/EMZ0196        1           0\n",
       "3         01/04/2010 08:02:14  DTAA/ZKH0388        1           0\n",
       "4         01/04/2010 08:20:17  DTAA/RES0962        0           1\n",
       "...                       ...           ...      ...         ...\n",
       "9995      03/16/2010 10:00:43  DTAA/RVS0852        1           0\n",
       "9996      03/16/2010 10:03:48  DTAA/XQW0354        1           0\n",
       "9997      03/16/2010 10:05:58  DTAA/VCG0663        1           0\n",
       "9998      03/16/2010 10:10:56  DTAA/AJB0370        0           1\n",
       "9999      03/16/2010 10:21:22  DTAA/CTH0856        1           0\n",
       "\n",
       "[10000 rows x 4 columns]"
      ]
     },
     "execution_count": 30,
     "metadata": {},
     "output_type": "execute_result"
    }
   ],
   "source": [
    "# Reset the index to get the desired column structure\n",
    "pivoted_data_device.reset_index(inplace=True)\n",
    "pivoted_data_device"
   ]
  },
  {
   "cell_type": "code",
   "execution_count": 31,
   "id": "748cbead-16c3-45ad-b8d5-9024823ff38d",
   "metadata": {
    "scrolled": true
   },
   "outputs": [
    {
     "name": "stdout",
     "output_type": "stream",
     "text": [
      "                     date          user  connect  disconnect\n",
      "0     01/04/2010 07:12:31  DTAA/RES0962        1           0\n",
      "1     01/04/2010 07:35:40  DTAA/BJC0569        1           0\n",
      "2     01/04/2010 08:00:38  DTAA/EMZ0196        1           0\n",
      "3     01/04/2010 08:02:14  DTAA/ZKH0388        1           0\n",
      "4     01/04/2010 08:20:17  DTAA/RES0962        0           1\n",
      "...                   ...           ...      ...         ...\n",
      "9995  03/16/2010 10:00:43  DTAA/RVS0852        1           0\n",
      "9996  03/16/2010 10:03:48  DTAA/XQW0354        1           0\n",
      "9997  03/16/2010 10:05:58  DTAA/VCG0663        1           0\n",
      "9998  03/16/2010 10:10:56  DTAA/AJB0370        0           1\n",
      "9999  03/16/2010 10:21:22  DTAA/CTH0856        1           0\n",
      "\n",
      "[10000 rows x 4 columns]\n"
     ]
    }
   ],
   "source": [
    "# Rename the columns\n",
    "pivoted_data_device.columns = ['date', 'user', 'connect', 'disconnect']\n",
    "print(pivoted_data_device)"
   ]
  },
  {
   "cell_type": "code",
   "execution_count": 32,
   "id": "e806b7ab-30a3-4c76-af45-187600113232",
   "metadata": {},
   "outputs": [],
   "source": [
    "pivoted_data_device.to_csv(\"device_processed.csv\", index=False)"
   ]
  },
  {
   "cell_type": "code",
   "execution_count": 33,
   "id": "8869fd8d-4b4d-4a0f-98c6-cbbe5f061870",
   "metadata": {},
   "outputs": [],
   "source": [
    "pivoted_data_logon.to_csv(\"logon_processed.csv\", index=False)"
   ]
  },
  {
   "cell_type": "code",
   "execution_count": 6,
   "id": "05380f44-bfb0-4f6a-98ad-e86e0ff06047",
   "metadata": {},
   "outputs": [],
   "source": [
    "email_data = pd.read_csv(\"../../autonomous-cybersecurity/datasets/r1/newEmail.csv\")"
   ]
  },
  {
   "cell_type": "code",
   "execution_count": 35,
   "id": "408d60d2-68e5-4fa8-bfac-04fc4d11c4fb",
   "metadata": {},
   "outputs": [
    {
     "data": {
      "text/plain": [
       "(1000, 12)"
      ]
     },
     "execution_count": 35,
     "metadata": {},
     "output_type": "execute_result"
    }
   ],
   "source": [
    "email_data.shape"
   ]
  },
  {
   "cell_type": "code",
   "execution_count": 37,
   "id": "33dae26a-3c6e-4cba-9b1b-d4bc7b9a72d3",
   "metadata": {},
   "outputs": [
    {
     "data": {
      "text/html": [
       "<div>\n",
       "<style scoped>\n",
       "    .dataframe tbody tr th:only-of-type {\n",
       "        vertical-align: middle;\n",
       "    }\n",
       "\n",
       "    .dataframe tbody tr th {\n",
       "        vertical-align: top;\n",
       "    }\n",
       "\n",
       "    .dataframe thead th {\n",
       "        text-align: right;\n",
       "    }\n",
       "</style>\n",
       "<table border=\"1\" class=\"dataframe\">\n",
       "  <thead>\n",
       "    <tr style=\"text-align: right;\">\n",
       "      <th></th>\n",
       "      <th>id</th>\n",
       "      <th>date</th>\n",
       "      <th>user</th>\n",
       "      <th>pc</th>\n",
       "      <th>to</th>\n",
       "      <th>cc</th>\n",
       "      <th>bcc</th>\n",
       "      <th>from</th>\n",
       "      <th>email_activity</th>\n",
       "      <th>size</th>\n",
       "      <th>email_attachments</th>\n",
       "      <th>content</th>\n",
       "    </tr>\n",
       "  </thead>\n",
       "  <tbody>\n",
       "    <tr>\n",
       "      <th>0</th>\n",
       "      <td>{I1O2-B4EB49RW-7379WSQW}</td>\n",
       "      <td>01-02-2010 06:36</td>\n",
       "      <td>HDB1666</td>\n",
       "      <td>PC-6793</td>\n",
       "      <td>Louis.Bernard.Garza@dtaa.com</td>\n",
       "      <td>Emery.Ali.Holloway@dtaa.com</td>\n",
       "      <td>Hector.Donovan.Bray@dtaa.com</td>\n",
       "      <td>Hector.Donovan.Bray@dtaa.com</td>\n",
       "      <td>Send</td>\n",
       "      <td>45659</td>\n",
       "      <td>NaN</td>\n",
       "      <td>Now Sylvia, the object of Aminta's desire, arr...</td>\n",
       "    </tr>\n",
       "    <tr>\n",
       "      <th>1</th>\n",
       "      <td>{L7E7-V4UX89RR-3036ZDHU}</td>\n",
       "      <td>01-02-2010 06:40</td>\n",
       "      <td>HDB1666</td>\n",
       "      <td>PC-6793</td>\n",
       "      <td>Hector.Donovan.Bray@dtaa.com</td>\n",
       "      <td>NaN</td>\n",
       "      <td>NaN</td>\n",
       "      <td>Luke.Grant.Mcmahon@dtaa.com</td>\n",
       "      <td>View</td>\n",
       "      <td>34142</td>\n",
       "      <td>NaN</td>\n",
       "      <td>On May 14, they picked up 44 more Iroquois at ...</td>\n",
       "    </tr>\n",
       "    <tr>\n",
       "      <th>2</th>\n",
       "      <td>{S8C2-Q8YX87DJ-0516SIWZ}</td>\n",
       "      <td>01-02-2010 06:42</td>\n",
       "      <td>HDB1666</td>\n",
       "      <td>PC-6793</td>\n",
       "      <td>Quintessa.O.Farrell@harris.com</td>\n",
       "      <td>Hector.Donovan.Bray@dtaa.com</td>\n",
       "      <td>NaN</td>\n",
       "      <td>Hector.Donovan.Bray@dtaa.com</td>\n",
       "      <td>Send</td>\n",
       "      <td>1310925</td>\n",
       "      <td>C:\\28X79b6\\0PAGXTJ8.doc(1119253);C:\\11b38g6\\5M...</td>\n",
       "      <td>Sylvia is notable for its mythological Arcadia...</td>\n",
       "    </tr>\n",
       "    <tr>\n",
       "      <th>3</th>\n",
       "      <td>{A1V9-O5BL46SW-1708NAEC}</td>\n",
       "      <td>01-02-2010 06:45</td>\n",
       "      <td>HDB1666</td>\n",
       "      <td>PC-6793</td>\n",
       "      <td>Hector.Donovan.Bray@dtaa.com</td>\n",
       "      <td>NaN</td>\n",
       "      <td>NaN</td>\n",
       "      <td>Travis.Ezra.Warner@dtaa.com</td>\n",
       "      <td>View</td>\n",
       "      <td>23043</td>\n",
       "      <td>NaN</td>\n",
       "      <td>Lanctot (1967) and Smith do not identify any s...</td>\n",
       "    </tr>\n",
       "    <tr>\n",
       "      <th>4</th>\n",
       "      <td>{N6R0-M2EI82DM-5583LSUM}</td>\n",
       "      <td>01-02-2010 06:47</td>\n",
       "      <td>HDB1666</td>\n",
       "      <td>PC-6793</td>\n",
       "      <td>Hector.Donovan.Bray@dtaa.com</td>\n",
       "      <td>NaN</td>\n",
       "      <td>NaN</td>\n",
       "      <td>Kenyon.William.Delacruz@dtaa.com</td>\n",
       "      <td>View</td>\n",
       "      <td>25210</td>\n",
       "      <td>NaN</td>\n",
       "      <td>Much like all the other large groups of prison...</td>\n",
       "    </tr>\n",
       "  </tbody>\n",
       "</table>\n",
       "</div>"
      ],
      "text/plain": [
       "                         id              date     user       pc  \\\n",
       "0  {I1O2-B4EB49RW-7379WSQW}  01-02-2010 06:36  HDB1666  PC-6793   \n",
       "1  {L7E7-V4UX89RR-3036ZDHU}  01-02-2010 06:40  HDB1666  PC-6793   \n",
       "2  {S8C2-Q8YX87DJ-0516SIWZ}  01-02-2010 06:42  HDB1666  PC-6793   \n",
       "3  {A1V9-O5BL46SW-1708NAEC}  01-02-2010 06:45  HDB1666  PC-6793   \n",
       "4  {N6R0-M2EI82DM-5583LSUM}  01-02-2010 06:47  HDB1666  PC-6793   \n",
       "\n",
       "                               to                            cc  \\\n",
       "0    Louis.Bernard.Garza@dtaa.com   Emery.Ali.Holloway@dtaa.com   \n",
       "1    Hector.Donovan.Bray@dtaa.com                           NaN   \n",
       "2  Quintessa.O.Farrell@harris.com  Hector.Donovan.Bray@dtaa.com   \n",
       "3    Hector.Donovan.Bray@dtaa.com                           NaN   \n",
       "4    Hector.Donovan.Bray@dtaa.com                           NaN   \n",
       "\n",
       "                            bcc                              from  \\\n",
       "0  Hector.Donovan.Bray@dtaa.com      Hector.Donovan.Bray@dtaa.com   \n",
       "1                           NaN       Luke.Grant.Mcmahon@dtaa.com   \n",
       "2                           NaN      Hector.Donovan.Bray@dtaa.com   \n",
       "3                           NaN       Travis.Ezra.Warner@dtaa.com   \n",
       "4                           NaN  Kenyon.William.Delacruz@dtaa.com   \n",
       "\n",
       "  email_activity     size                                  email_attachments  \\\n",
       "0           Send    45659                                                NaN   \n",
       "1           View    34142                                                NaN   \n",
       "2           Send  1310925  C:\\28X79b6\\0PAGXTJ8.doc(1119253);C:\\11b38g6\\5M...   \n",
       "3           View    23043                                                NaN   \n",
       "4           View    25210                                                NaN   \n",
       "\n",
       "                                             content  \n",
       "0  Now Sylvia, the object of Aminta's desire, arr...  \n",
       "1  On May 14, they picked up 44 more Iroquois at ...  \n",
       "2  Sylvia is notable for its mythological Arcadia...  \n",
       "3  Lanctot (1967) and Smith do not identify any s...  \n",
       "4  Much like all the other large groups of prison...  "
      ]
     },
     "execution_count": 37,
     "metadata": {},
     "output_type": "execute_result"
    }
   ],
   "source": [
    "email_data.head()"
   ]
  },
  {
   "cell_type": "code",
   "execution_count": 7,
   "id": "e68d5d5c-bcfd-46e4-82b5-dd31c4801949",
   "metadata": {},
   "outputs": [],
   "source": [
    "email_data[\"email_attachments\"] = email_data[\"email_attachments\"].fillna(\"no\")"
   ]
  },
  {
   "cell_type": "code",
   "execution_count": 8,
   "id": "1f5c4540-b5df-48b8-a604-8c1fbe8da077",
   "metadata": {},
   "outputs": [],
   "source": [
    "only_attachments_email =  email_data[email_data[\"email_attachments\"] != \"no\"]"
   ]
  },
  {
   "cell_type": "code",
   "execution_count": 45,
   "id": "0a744039-9459-4377-ac36-fe3f45d4a4a1",
   "metadata": {},
   "outputs": [
    {
     "data": {
      "text/plain": [
       "2      C:\\28X79b6\\0PAGXTJ8.doc(1119253);C:\\11b38g6\\5M...\n",
       "5                        C:\\11b38g6\\5M1U5X8R.doc(155895)\n",
       "7      C:\\217BMv8\\813NENCZ.doc(1494252);C:\\LIM1718\\PE...\n",
       "18     C:\\7TORMXD6.doc(1379680);C:\\64dL9z2\\9Y1A7RB7.d...\n",
       "26                      C:\\11fL3j2\\AHHWZ10A.txt(1157938)\n",
       "                             ...                        \n",
       "962     C:\\T7X6NKIP.doc(959413);C:\\9C78YXDB.doc(1856742)\n",
       "968                      C:\\SDH2394\\QT9J3RR7.pdf(924944)\n",
       "975    C:\\SDH2394\\BAJ5ZHXB.pdf(1078641);C:\\CGKKSBG7.z...\n",
       "976      C:\\P4TV1Z26.doc(366652);C:\\D0CJSND8.doc(125810)\n",
       "979    C:\\26r3487\\71ZCU7UT.doc(412709);C:\\26r3487\\G33...\n",
       "Name: email_attachments, Length: 111, dtype: object"
      ]
     },
     "execution_count": 45,
     "metadata": {},
     "output_type": "execute_result"
    }
   ],
   "source": [
    "only_attachments_email[\"email_attachments\"]"
   ]
  },
  {
   "cell_type": "code",
   "execution_count": 9,
   "id": "2b327dcd-053b-487a-b334-f8faa6b8bb41",
   "metadata": {},
   "outputs": [],
   "source": [
    "filtered_data_email = only_attachments_email[['date','user','email_attachments']]"
   ]
  },
  {
   "cell_type": "code",
   "execution_count": 10,
   "id": "63f8e77b-42aa-4bdd-93c9-ad32a3fbd226",
   "metadata": {},
   "outputs": [
    {
     "data": {
      "text/html": [
       "<div>\n",
       "<style scoped>\n",
       "    .dataframe tbody tr th:only-of-type {\n",
       "        vertical-align: middle;\n",
       "    }\n",
       "\n",
       "    .dataframe tbody tr th {\n",
       "        vertical-align: top;\n",
       "    }\n",
       "\n",
       "    .dataframe thead th {\n",
       "        text-align: right;\n",
       "    }\n",
       "</style>\n",
       "<table border=\"1\" class=\"dataframe\">\n",
       "  <thead>\n",
       "    <tr style=\"text-align: right;\">\n",
       "      <th></th>\n",
       "      <th>date</th>\n",
       "      <th>user</th>\n",
       "      <th>email_attachments</th>\n",
       "    </tr>\n",
       "  </thead>\n",
       "  <tbody>\n",
       "    <tr>\n",
       "      <th>2</th>\n",
       "      <td>01-02-2010 06:42</td>\n",
       "      <td>HDB1666</td>\n",
       "      <td>C:\\28X79b6\\0PAGXTJ8.doc(1119253);C:\\11b38g6\\5M...</td>\n",
       "    </tr>\n",
       "    <tr>\n",
       "      <th>5</th>\n",
       "      <td>01-02-2010 06:47</td>\n",
       "      <td>HDB1666</td>\n",
       "      <td>C:\\11b38g6\\5M1U5X8R.doc(155895)</td>\n",
       "    </tr>\n",
       "    <tr>\n",
       "      <th>7</th>\n",
       "      <td>01-02-2010 06:52</td>\n",
       "      <td>LIM1718</td>\n",
       "      <td>C:\\217BMv8\\813NENCZ.doc(1494252);C:\\LIM1718\\PE...</td>\n",
       "    </tr>\n",
       "    <tr>\n",
       "      <th>18</th>\n",
       "      <td>01-02-2010 07:09</td>\n",
       "      <td>ATH0225</td>\n",
       "      <td>C:\\7TORMXD6.doc(1379680);C:\\64dL9z2\\9Y1A7RB7.d...</td>\n",
       "    </tr>\n",
       "    <tr>\n",
       "      <th>26</th>\n",
       "      <td>01-02-2010 07:14</td>\n",
       "      <td>ATH0225</td>\n",
       "      <td>C:\\11fL3j2\\AHHWZ10A.txt(1157938)</td>\n",
       "    </tr>\n",
       "    <tr>\n",
       "      <th>...</th>\n",
       "      <td>...</td>\n",
       "      <td>...</td>\n",
       "      <td>...</td>\n",
       "    </tr>\n",
       "    <tr>\n",
       "      <th>962</th>\n",
       "      <td>01-02-2010 12:40</td>\n",
       "      <td>LQW1314</td>\n",
       "      <td>C:\\T7X6NKIP.doc(959413);C:\\9C78YXDB.doc(1856742)</td>\n",
       "    </tr>\n",
       "    <tr>\n",
       "      <th>968</th>\n",
       "      <td>01-02-2010 12:42</td>\n",
       "      <td>SDH2394</td>\n",
       "      <td>C:\\SDH2394\\QT9J3RR7.pdf(924944)</td>\n",
       "    </tr>\n",
       "    <tr>\n",
       "      <th>975</th>\n",
       "      <td>01-02-2010 12:45</td>\n",
       "      <td>SDH2394</td>\n",
       "      <td>C:\\SDH2394\\BAJ5ZHXB.pdf(1078641);C:\\CGKKSBG7.z...</td>\n",
       "    </tr>\n",
       "    <tr>\n",
       "      <th>976</th>\n",
       "      <td>01-02-2010 12:45</td>\n",
       "      <td>RJH0219</td>\n",
       "      <td>C:\\P4TV1Z26.doc(366652);C:\\D0CJSND8.doc(125810)</td>\n",
       "    </tr>\n",
       "    <tr>\n",
       "      <th>979</th>\n",
       "      <td>01-02-2010 12:45</td>\n",
       "      <td>EAL3873</td>\n",
       "      <td>C:\\26r3487\\71ZCU7UT.doc(412709);C:\\26r3487\\G33...</td>\n",
       "    </tr>\n",
       "  </tbody>\n",
       "</table>\n",
       "<p>111 rows × 3 columns</p>\n",
       "</div>"
      ],
      "text/plain": [
       "                 date     user  \\\n",
       "2    01-02-2010 06:42  HDB1666   \n",
       "5    01-02-2010 06:47  HDB1666   \n",
       "7    01-02-2010 06:52  LIM1718   \n",
       "18   01-02-2010 07:09  ATH0225   \n",
       "26   01-02-2010 07:14  ATH0225   \n",
       "..                ...      ...   \n",
       "962  01-02-2010 12:40  LQW1314   \n",
       "968  01-02-2010 12:42  SDH2394   \n",
       "975  01-02-2010 12:45  SDH2394   \n",
       "976  01-02-2010 12:45  RJH0219   \n",
       "979  01-02-2010 12:45  EAL3873   \n",
       "\n",
       "                                     email_attachments  \n",
       "2    C:\\28X79b6\\0PAGXTJ8.doc(1119253);C:\\11b38g6\\5M...  \n",
       "5                      C:\\11b38g6\\5M1U5X8R.doc(155895)  \n",
       "7    C:\\217BMv8\\813NENCZ.doc(1494252);C:\\LIM1718\\PE...  \n",
       "18   C:\\7TORMXD6.doc(1379680);C:\\64dL9z2\\9Y1A7RB7.d...  \n",
       "26                    C:\\11fL3j2\\AHHWZ10A.txt(1157938)  \n",
       "..                                                 ...  \n",
       "962   C:\\T7X6NKIP.doc(959413);C:\\9C78YXDB.doc(1856742)  \n",
       "968                    C:\\SDH2394\\QT9J3RR7.pdf(924944)  \n",
       "975  C:\\SDH2394\\BAJ5ZHXB.pdf(1078641);C:\\CGKKSBG7.z...  \n",
       "976    C:\\P4TV1Z26.doc(366652);C:\\D0CJSND8.doc(125810)  \n",
       "979  C:\\26r3487\\71ZCU7UT.doc(412709);C:\\26r3487\\G33...  \n",
       "\n",
       "[111 rows x 3 columns]"
      ]
     },
     "execution_count": 10,
     "metadata": {},
     "output_type": "execute_result"
    }
   ],
   "source": [
    "filtered_data_email"
   ]
  },
  {
   "cell_type": "markdown",
   "id": "4dc7636f-b572-459f-bb1c-a9b97927488f",
   "metadata": {},
   "source": [
    "## READING INTO DATAFRAME"
   ]
  },
  {
   "cell_type": "code",
   "execution_count": 1,
   "id": "87b69ae2-8564-4e44-8d14-6a42321561e2",
   "metadata": {},
   "outputs": [],
   "source": [
    "import pandas as pd"
   ]
  },
  {
   "cell_type": "code",
   "execution_count": 3,
   "id": "9af611d9-403d-458a-8196-382e72608e54",
   "metadata": {},
   "outputs": [],
   "source": [
    "pivoted_data_device = pd.read_csv(\"./device_processed.csv\")\n",
    "pivoted_data_logon = pd.read_csv(\"./logon_processed.csv\")"
   ]
  },
  {
   "cell_type": "code",
   "execution_count": null,
   "id": "23df36ce-c4dc-4ad6-9dd8-11b34409adc9",
   "metadata": {},
   "outputs": [],
   "source": []
  },
  {
   "cell_type": "markdown",
   "id": "756e1f46-4666-45b2-b943-d99b2bb337c2",
   "metadata": {},
   "source": [
    "## COMBINING DATASET COMMON COLUMNS"
   ]
  },
  {
   "cell_type": "code",
   "execution_count": 11,
   "id": "b71795c4-ac15-4891-a1f8-64e1b1aad491",
   "metadata": {},
   "outputs": [],
   "source": [
    "pivoted_data_device['date'] = pd.to_datetime(pivoted_data_device['date'], format='%m/%d/%Y %H:%M:%S')"
   ]
  },
  {
   "cell_type": "code",
   "execution_count": 12,
   "id": "e073a75a-da9c-4c2a-994e-2e715f29da22",
   "metadata": {},
   "outputs": [],
   "source": [
    "pivoted_data_logon['date'] = pd.to_datetime(pivoted_data_logon['date'], format='%m/%d/%Y %H:%M:%S')"
   ]
  },
  {
   "cell_type": "code",
   "execution_count": 15,
   "id": "0c0c2475-9776-487a-a4cf-937fd79bb1f4",
   "metadata": {},
   "outputs": [
    {
     "name": "stderr",
     "output_type": "stream",
     "text": [
      "/tmp/ipykernel_4755/2269772647.py:1: SettingWithCopyWarning: \n",
      "A value is trying to be set on a copy of a slice from a DataFrame.\n",
      "Try using .loc[row_indexer,col_indexer] = value instead\n",
      "\n",
      "See the caveats in the documentation: https://pandas.pydata.org/pandas-docs/stable/user_guide/indexing.html#returning-a-view-versus-a-copy\n",
      "  filtered_data_email['date'] = pd.to_datetime(filtered_data_email['date'], format='%d-%m-%Y %H:%S')\n"
     ]
    }
   ],
   "source": [
    "filtered_data_email['date'] = pd.to_datetime(filtered_data_email['date'], format='%d-%m-%Y %H:%S')"
   ]
  },
  {
   "cell_type": "markdown",
   "id": "cd6e6aa6-0c80-4b72-ad58-a0c2c1432627",
   "metadata": {},
   "source": [
    "### MERGING METHODS"
   ]
  },
  {
   "cell_type": "markdown",
   "id": "3627569d-9db7-4724-8238-c30b4da185d2",
   "metadata": {},
   "source": [
    "merged_data = pd.merge(filtered_data_email, other_data1, on=['user', 'date'], how='inner')"
   ]
  },
  {
   "cell_type": "code",
   "execution_count": 23,
   "id": "968ac506-13bb-4cf6-b6a0-b5d02e64f7cf",
   "metadata": {},
   "outputs": [
    {
     "name": "stderr",
     "output_type": "stream",
     "text": [
      "/tmp/ipykernel_4755/1469635182.py:4: SettingWithCopyWarning: \n",
      "A value is trying to be set on a copy of a slice from a DataFrame.\n",
      "Try using .loc[row_indexer,col_indexer] = value instead\n",
      "\n",
      "See the caveats in the documentation: https://pandas.pydata.org/pandas-docs/stable/user_guide/indexing.html#returning-a-view-versus-a-copy\n",
      "  filtered_data_email['user'] = filtered_data_email['user'].str.strip()\n"
     ]
    }
   ],
   "source": [
    "# Ensure no leading/trailing spaces\n",
    "pivoted_data_device['user'] = pivoted_data_device['user'].str.strip()\n",
    "pivoted_data_logon['user'] = pivoted_data_logon['user'].str.strip()\n",
    "filtered_data_email['user'] = filtered_data_email['user'].str.strip()"
   ]
  },
  {
   "cell_type": "code",
   "execution_count": 29,
   "id": "79297bd3-82ae-4755-a282-4e1c1b0b5e45",
   "metadata": {},
   "outputs": [
    {
     "name": "stderr",
     "output_type": "stream",
     "text": [
      "/tmp/ipykernel_4755/633335634.py:3: SettingWithCopyWarning: \n",
      "A value is trying to be set on a copy of a slice from a DataFrame.\n",
      "Try using .loc[row_indexer,col_indexer] = value instead\n",
      "\n",
      "See the caveats in the documentation: https://pandas.pydata.org/pandas-docs/stable/user_guide/indexing.html#returning-a-view-versus-a-copy\n",
      "  filtered_data_email['date'] = filtered_data_email['date'].dt.strftime('%d-%m-%Y %H:%M')\n"
     ]
    }
   ],
   "source": [
    "# ONCE EXECUTED ALL THE DATE VALUES CONVERTED INTO STR\n",
    "pivoted_data_device['date'] = pivoted_data_device['date'].dt.strftime('%d-%m-%Y %H:%M')\n",
    "pivoted_data_logon['date'] = pivoted_data_logon['date'].dt.strftime('%d-%m-%Y %H:%M')\n",
    "filtered_data_email['date'] = filtered_data_email['date'].dt.strftime('%d-%m-%Y %H:%M')"
   ]
  },
  {
   "cell_type": "code",
   "execution_count": 30,
   "id": "58b60007-4d42-4644-a428-d8770d6cdb52",
   "metadata": {},
   "outputs": [
    {
     "data": {
      "text/plain": [
       "date          object\n",
       "user          object\n",
       "connect        int64\n",
       "disconnect     int64\n",
       "dtype: object"
      ]
     },
     "execution_count": 30,
     "metadata": {},
     "output_type": "execute_result"
    }
   ],
   "source": [
    "pivoted_data_device.dtypes"
   ]
  },
  {
   "cell_type": "code",
   "execution_count": 31,
   "id": "cf62e571-7d6c-40f7-95ad-5ed268984a13",
   "metadata": {},
   "outputs": [
    {
     "name": "stderr",
     "output_type": "stream",
     "text": [
      "/tmp/ipykernel_4755/3008845145.py:5: SettingWithCopyWarning: \n",
      "A value is trying to be set on a copy of a slice from a DataFrame.\n",
      "Try using .loc[row_indexer,col_indexer] = value instead\n",
      "\n",
      "See the caveats in the documentation: https://pandas.pydata.org/pandas-docs/stable/user_guide/indexing.html#returning-a-view-versus-a-copy\n",
      "  filtered_data_email['date'] = pd.to_datetime(filtered_data_email['date'], format=DATEFORMAT)\n"
     ]
    }
   ],
   "source": [
    "#CONVERTING THEM BACK TO DATE FORMAT '%d-%m-%Y %H:%M'\n",
    "DATEFORMAT = '%d-%m-%Y %H:%M'\n",
    "pivoted_data_device['date'] = pd.to_datetime(pivoted_data_device['date'], format=DATEFORMAT)\n",
    "pivoted_data_logon['date'] = pd.to_datetime(pivoted_data_logon['date'], format=DATEFORMAT)\n",
    "filtered_data_email['date'] = pd.to_datetime(filtered_data_email['date'], format=DATEFORMAT)"
   ]
  },
  {
   "cell_type": "code",
   "execution_count": 32,
   "id": "0a971ab4-6592-47d8-bfa6-5458f4ea9829",
   "metadata": {},
   "outputs": [
    {
     "data": {
      "text/plain": [
       "date      datetime64[ns]\n",
       "user              object\n",
       "logon              int64\n",
       "logoff             int64\n",
       "dtype: object"
      ]
     },
     "execution_count": 32,
     "metadata": {},
     "output_type": "execute_result"
    }
   ],
   "source": [
    "pivoted_data_logon.dtypes"
   ]
  },
  {
   "cell_type": "code",
   "execution_count": 36,
   "id": "d3a29fa1-ebd1-488f-ae74-c2f50327926d",
   "metadata": {},
   "outputs": [],
   "source": [
    "merged_data = pd.merge( pivoted_data_logon, pivoted_data_device, on=['user', 'date'], how='inner')"
   ]
  },
  {
   "cell_type": "code",
   "execution_count": 37,
   "id": "9d078b13-a3ce-437b-a9c8-141b26fcb2cc",
   "metadata": {},
   "outputs": [
    {
     "data": {
      "text/html": [
       "<div>\n",
       "<style scoped>\n",
       "    .dataframe tbody tr th:only-of-type {\n",
       "        vertical-align: middle;\n",
       "    }\n",
       "\n",
       "    .dataframe tbody tr th {\n",
       "        vertical-align: top;\n",
       "    }\n",
       "\n",
       "    .dataframe thead th {\n",
       "        text-align: right;\n",
       "    }\n",
       "</style>\n",
       "<table border=\"1\" class=\"dataframe\">\n",
       "  <thead>\n",
       "    <tr style=\"text-align: right;\">\n",
       "      <th></th>\n",
       "      <th>date</th>\n",
       "      <th>user</th>\n",
       "      <th>logon</th>\n",
       "      <th>logoff</th>\n",
       "      <th>connect</th>\n",
       "      <th>disconnect</th>\n",
       "    </tr>\n",
       "  </thead>\n",
       "  <tbody>\n",
       "    <tr>\n",
       "      <th>0</th>\n",
       "      <td>2010-01-04 16:01:00</td>\n",
       "      <td>DTAA/RCW0436</td>\n",
       "      <td>1</td>\n",
       "      <td>0</td>\n",
       "      <td>0</td>\n",
       "      <td>1</td>\n",
       "    </tr>\n",
       "    <tr>\n",
       "      <th>1</th>\n",
       "      <td>2010-01-04 17:39:00</td>\n",
       "      <td>DTAA/AGW0182</td>\n",
       "      <td>1</td>\n",
       "      <td>0</td>\n",
       "      <td>0</td>\n",
       "      <td>1</td>\n",
       "    </tr>\n",
       "  </tbody>\n",
       "</table>\n",
       "</div>"
      ],
      "text/plain": [
       "                 date          user  logon  logoff  connect  disconnect\n",
       "0 2010-01-04 16:01:00  DTAA/RCW0436      1       0        0           1\n",
       "1 2010-01-04 17:39:00  DTAA/AGW0182      1       0        0           1"
      ]
     },
     "execution_count": 37,
     "metadata": {},
     "output_type": "execute_result"
    }
   ],
   "source": [
    "merged_data"
   ]
  },
  {
   "cell_type": "code",
   "execution_count": 38,
   "id": "42bd6f4f-a797-4060-a92d-9027bad87275",
   "metadata": {},
   "outputs": [
    {
     "data": {
      "text/html": [
       "<div>\n",
       "<style scoped>\n",
       "    .dataframe tbody tr th:only-of-type {\n",
       "        vertical-align: middle;\n",
       "    }\n",
       "\n",
       "    .dataframe tbody tr th {\n",
       "        vertical-align: top;\n",
       "    }\n",
       "\n",
       "    .dataframe thead th {\n",
       "        text-align: right;\n",
       "    }\n",
       "</style>\n",
       "<table border=\"1\" class=\"dataframe\">\n",
       "  <thead>\n",
       "    <tr style=\"text-align: right;\">\n",
       "      <th></th>\n",
       "      <th>date_x</th>\n",
       "      <th>user</th>\n",
       "      <th>logon</th>\n",
       "      <th>logoff</th>\n",
       "      <th>date_y</th>\n",
       "      <th>connect</th>\n",
       "      <th>disconnect</th>\n",
       "    </tr>\n",
       "  </thead>\n",
       "  <tbody>\n",
       "    <tr>\n",
       "      <th>0</th>\n",
       "      <td>2010-01-04 03:04:00</td>\n",
       "      <td>DTAA/IRC0991</td>\n",
       "      <td>0</td>\n",
       "      <td>1</td>\n",
       "      <td>2010-01-04 08:59:00</td>\n",
       "      <td>1</td>\n",
       "      <td>0</td>\n",
       "    </tr>\n",
       "    <tr>\n",
       "      <th>1</th>\n",
       "      <td>2010-01-04 03:04:00</td>\n",
       "      <td>DTAA/IRC0991</td>\n",
       "      <td>0</td>\n",
       "      <td>1</td>\n",
       "      <td>2010-01-04 14:05:00</td>\n",
       "      <td>0</td>\n",
       "      <td>1</td>\n",
       "    </tr>\n",
       "    <tr>\n",
       "      <th>2</th>\n",
       "      <td>2010-01-04 03:04:00</td>\n",
       "      <td>DTAA/IRC0991</td>\n",
       "      <td>0</td>\n",
       "      <td>1</td>\n",
       "      <td>2010-01-07 09:54:00</td>\n",
       "      <td>1</td>\n",
       "      <td>0</td>\n",
       "    </tr>\n",
       "    <tr>\n",
       "      <th>3</th>\n",
       "      <td>2010-01-04 03:04:00</td>\n",
       "      <td>DTAA/IRC0991</td>\n",
       "      <td>0</td>\n",
       "      <td>1</td>\n",
       "      <td>2010-01-07 14:18:00</td>\n",
       "      <td>0</td>\n",
       "      <td>1</td>\n",
       "    </tr>\n",
       "    <tr>\n",
       "      <th>4</th>\n",
       "      <td>2010-01-04 03:04:00</td>\n",
       "      <td>DTAA/IRC0991</td>\n",
       "      <td>0</td>\n",
       "      <td>1</td>\n",
       "      <td>2010-01-08 10:32:00</td>\n",
       "      <td>1</td>\n",
       "      <td>0</td>\n",
       "    </tr>\n",
       "    <tr>\n",
       "      <th>...</th>\n",
       "      <td>...</td>\n",
       "      <td>...</td>\n",
       "      <td>...</td>\n",
       "      <td>...</td>\n",
       "      <td>...</td>\n",
       "      <td>...</td>\n",
       "      <td>...</td>\n",
       "    </tr>\n",
       "    <tr>\n",
       "      <th>116468</th>\n",
       "      <td>2010-01-07 18:47:00</td>\n",
       "      <td>DTAA/AKS0283</td>\n",
       "      <td>1</td>\n",
       "      <td>0</td>\n",
       "      <td>2010-03-11 04:41:00</td>\n",
       "      <td>0</td>\n",
       "      <td>1</td>\n",
       "    </tr>\n",
       "    <tr>\n",
       "      <th>116469</th>\n",
       "      <td>2010-01-07 18:47:00</td>\n",
       "      <td>DTAA/AJP0553</td>\n",
       "      <td>1</td>\n",
       "      <td>0</td>\n",
       "      <td>2010-02-12 04:15:00</td>\n",
       "      <td>1</td>\n",
       "      <td>0</td>\n",
       "    </tr>\n",
       "    <tr>\n",
       "      <th>116470</th>\n",
       "      <td>2010-01-07 18:47:00</td>\n",
       "      <td>DTAA/AJP0553</td>\n",
       "      <td>1</td>\n",
       "      <td>0</td>\n",
       "      <td>2010-02-12 04:30:00</td>\n",
       "      <td>0</td>\n",
       "      <td>1</td>\n",
       "    </tr>\n",
       "    <tr>\n",
       "      <th>116471</th>\n",
       "      <td>2010-01-07 18:47:00</td>\n",
       "      <td>DTAA/AJP0553</td>\n",
       "      <td>1</td>\n",
       "      <td>0</td>\n",
       "      <td>2010-03-13 02:14:00</td>\n",
       "      <td>1</td>\n",
       "      <td>0</td>\n",
       "    </tr>\n",
       "    <tr>\n",
       "      <th>116472</th>\n",
       "      <td>2010-01-07 18:47:00</td>\n",
       "      <td>DTAA/AJP0553</td>\n",
       "      <td>1</td>\n",
       "      <td>0</td>\n",
       "      <td>2010-03-13 03:04:00</td>\n",
       "      <td>0</td>\n",
       "      <td>1</td>\n",
       "    </tr>\n",
       "  </tbody>\n",
       "</table>\n",
       "<p>116473 rows × 7 columns</p>\n",
       "</div>"
      ],
      "text/plain": [
       "                    date_x          user  logon  logoff              date_y  \\\n",
       "0      2010-01-04 03:04:00  DTAA/IRC0991      0       1 2010-01-04 08:59:00   \n",
       "1      2010-01-04 03:04:00  DTAA/IRC0991      0       1 2010-01-04 14:05:00   \n",
       "2      2010-01-04 03:04:00  DTAA/IRC0991      0       1 2010-01-07 09:54:00   \n",
       "3      2010-01-04 03:04:00  DTAA/IRC0991      0       1 2010-01-07 14:18:00   \n",
       "4      2010-01-04 03:04:00  DTAA/IRC0991      0       1 2010-01-08 10:32:00   \n",
       "...                    ...           ...    ...     ...                 ...   \n",
       "116468 2010-01-07 18:47:00  DTAA/AKS0283      1       0 2010-03-11 04:41:00   \n",
       "116469 2010-01-07 18:47:00  DTAA/AJP0553      1       0 2010-02-12 04:15:00   \n",
       "116470 2010-01-07 18:47:00  DTAA/AJP0553      1       0 2010-02-12 04:30:00   \n",
       "116471 2010-01-07 18:47:00  DTAA/AJP0553      1       0 2010-03-13 02:14:00   \n",
       "116472 2010-01-07 18:47:00  DTAA/AJP0553      1       0 2010-03-13 03:04:00   \n",
       "\n",
       "        connect  disconnect  \n",
       "0             1           0  \n",
       "1             0           1  \n",
       "2             1           0  \n",
       "3             0           1  \n",
       "4             1           0  \n",
       "...         ...         ...  \n",
       "116468        0           1  \n",
       "116469        1           0  \n",
       "116470        0           1  \n",
       "116471        1           0  \n",
       "116472        0           1  \n",
       "\n",
       "[116473 rows x 7 columns]"
      ]
     },
     "execution_count": 38,
     "metadata": {},
     "output_type": "execute_result"
    }
   ],
   "source": [
    "merged_data_user = pd.merge( pivoted_data_logon, pivoted_data_device, on=['user'], how='inner')\n",
    "merged_data_user"
   ]
  },
  {
   "cell_type": "code",
   "execution_count": 39,
   "id": "1a2f4cf1-720f-4935-ac4e-79e860b6ebde",
   "metadata": {},
   "outputs": [
    {
     "data": {
      "text/html": [
       "<div>\n",
       "<style scoped>\n",
       "    .dataframe tbody tr th:only-of-type {\n",
       "        vertical-align: middle;\n",
       "    }\n",
       "\n",
       "    .dataframe tbody tr th {\n",
       "        vertical-align: top;\n",
       "    }\n",
       "\n",
       "    .dataframe thead th {\n",
       "        text-align: right;\n",
       "    }\n",
       "</style>\n",
       "<table border=\"1\" class=\"dataframe\">\n",
       "  <thead>\n",
       "    <tr style=\"text-align: right;\">\n",
       "      <th></th>\n",
       "      <th>date</th>\n",
       "      <th>user_x</th>\n",
       "      <th>logon</th>\n",
       "      <th>logoff</th>\n",
       "      <th>user_y</th>\n",
       "      <th>connect</th>\n",
       "      <th>disconnect</th>\n",
       "    </tr>\n",
       "  </thead>\n",
       "  <tbody>\n",
       "    <tr>\n",
       "      <th>0</th>\n",
       "      <td>2010-01-04 07:12:00</td>\n",
       "      <td>DTAA/CGM0319</td>\n",
       "      <td>0</td>\n",
       "      <td>1</td>\n",
       "      <td>DTAA/RES0962</td>\n",
       "      <td>1</td>\n",
       "      <td>0</td>\n",
       "    </tr>\n",
       "    <tr>\n",
       "      <th>1</th>\n",
       "      <td>2010-01-04 07:12:00</td>\n",
       "      <td>DTAA/OSS0859</td>\n",
       "      <td>0</td>\n",
       "      <td>1</td>\n",
       "      <td>DTAA/RES0962</td>\n",
       "      <td>1</td>\n",
       "      <td>0</td>\n",
       "    </tr>\n",
       "    <tr>\n",
       "      <th>2</th>\n",
       "      <td>2010-01-04 07:35:00</td>\n",
       "      <td>DTAA/JSH0598</td>\n",
       "      <td>0</td>\n",
       "      <td>1</td>\n",
       "      <td>DTAA/BJC0569</td>\n",
       "      <td>1</td>\n",
       "      <td>0</td>\n",
       "    </tr>\n",
       "    <tr>\n",
       "      <th>3</th>\n",
       "      <td>2010-01-04 07:35:00</td>\n",
       "      <td>DTAA/LBD0946</td>\n",
       "      <td>0</td>\n",
       "      <td>1</td>\n",
       "      <td>DTAA/BJC0569</td>\n",
       "      <td>1</td>\n",
       "      <td>0</td>\n",
       "    </tr>\n",
       "    <tr>\n",
       "      <th>4</th>\n",
       "      <td>2010-01-04 07:35:00</td>\n",
       "      <td>DTAA/CGT0183</td>\n",
       "      <td>0</td>\n",
       "      <td>1</td>\n",
       "      <td>DTAA/BJC0569</td>\n",
       "      <td>1</td>\n",
       "      <td>0</td>\n",
       "    </tr>\n",
       "    <tr>\n",
       "      <th>...</th>\n",
       "      <td>...</td>\n",
       "      <td>...</td>\n",
       "      <td>...</td>\n",
       "      <td>...</td>\n",
       "      <td>...</td>\n",
       "      <td>...</td>\n",
       "      <td>...</td>\n",
       "    </tr>\n",
       "    <tr>\n",
       "      <th>1932</th>\n",
       "      <td>2010-01-07 18:48:00</td>\n",
       "      <td>DTAA/BHH0460</td>\n",
       "      <td>1</td>\n",
       "      <td>0</td>\n",
       "      <td>DTAA/HIB0604</td>\n",
       "      <td>0</td>\n",
       "      <td>1</td>\n",
       "    </tr>\n",
       "    <tr>\n",
       "      <th>1933</th>\n",
       "      <td>2010-01-07 18:48:00</td>\n",
       "      <td>DTAA/RDG0350</td>\n",
       "      <td>1</td>\n",
       "      <td>0</td>\n",
       "      <td>DTAA/HIB0604</td>\n",
       "      <td>0</td>\n",
       "      <td>1</td>\n",
       "    </tr>\n",
       "    <tr>\n",
       "      <th>1934</th>\n",
       "      <td>2010-01-07 18:48:00</td>\n",
       "      <td>DTAA/EML0060</td>\n",
       "      <td>1</td>\n",
       "      <td>0</td>\n",
       "      <td>DTAA/HIB0604</td>\n",
       "      <td>0</td>\n",
       "      <td>1</td>\n",
       "    </tr>\n",
       "    <tr>\n",
       "      <th>1935</th>\n",
       "      <td>2010-01-07 18:48:00</td>\n",
       "      <td>DTAA/RDH0117</td>\n",
       "      <td>1</td>\n",
       "      <td>0</td>\n",
       "      <td>DTAA/HIB0604</td>\n",
       "      <td>0</td>\n",
       "      <td>1</td>\n",
       "    </tr>\n",
       "    <tr>\n",
       "      <th>1936</th>\n",
       "      <td>2010-01-07 18:48:00</td>\n",
       "      <td>DTAA/SSH0085</td>\n",
       "      <td>1</td>\n",
       "      <td>0</td>\n",
       "      <td>DTAA/HIB0604</td>\n",
       "      <td>0</td>\n",
       "      <td>1</td>\n",
       "    </tr>\n",
       "  </tbody>\n",
       "</table>\n",
       "<p>1937 rows × 7 columns</p>\n",
       "</div>"
      ],
      "text/plain": [
       "                    date        user_x  logon  logoff        user_y  connect  \\\n",
       "0    2010-01-04 07:12:00  DTAA/CGM0319      0       1  DTAA/RES0962        1   \n",
       "1    2010-01-04 07:12:00  DTAA/OSS0859      0       1  DTAA/RES0962        1   \n",
       "2    2010-01-04 07:35:00  DTAA/JSH0598      0       1  DTAA/BJC0569        1   \n",
       "3    2010-01-04 07:35:00  DTAA/LBD0946      0       1  DTAA/BJC0569        1   \n",
       "4    2010-01-04 07:35:00  DTAA/CGT0183      0       1  DTAA/BJC0569        1   \n",
       "...                  ...           ...    ...     ...           ...      ...   \n",
       "1932 2010-01-07 18:48:00  DTAA/BHH0460      1       0  DTAA/HIB0604        0   \n",
       "1933 2010-01-07 18:48:00  DTAA/RDG0350      1       0  DTAA/HIB0604        0   \n",
       "1934 2010-01-07 18:48:00  DTAA/EML0060      1       0  DTAA/HIB0604        0   \n",
       "1935 2010-01-07 18:48:00  DTAA/RDH0117      1       0  DTAA/HIB0604        0   \n",
       "1936 2010-01-07 18:48:00  DTAA/SSH0085      1       0  DTAA/HIB0604        0   \n",
       "\n",
       "      disconnect  \n",
       "0              0  \n",
       "1              0  \n",
       "2              0  \n",
       "3              0  \n",
       "4              0  \n",
       "...          ...  \n",
       "1932           1  \n",
       "1933           1  \n",
       "1934           1  \n",
       "1935           1  \n",
       "1936           1  \n",
       "\n",
       "[1937 rows x 7 columns]"
      ]
     },
     "execution_count": 39,
     "metadata": {},
     "output_type": "execute_result"
    }
   ],
   "source": [
    "merged_data_date = pd.merge( pivoted_data_logon, pivoted_data_device, on=['date'], how='inner')\n",
    "merged_data_date"
   ]
  },
  {
   "cell_type": "code",
   "execution_count": 46,
   "id": "3b4daffe-2274-4e19-af05-880d773c5359",
   "metadata": {},
   "outputs": [
    {
     "ename": "TypeError",
     "evalue": "concat() got an unexpected keyword argument 'how'",
     "output_type": "error",
     "traceback": [
      "\u001b[0;31m---------------------------------------------------------------------------\u001b[0m",
      "\u001b[0;31mTypeError\u001b[0m                                 Traceback (most recent call last)",
      "Cell \u001b[0;32mIn[46], line 1\u001b[0m\n\u001b[0;32m----> 1\u001b[0m merged_data_all \u001b[38;5;241m=\u001b[39m pd\u001b[38;5;241m.\u001b[39mconcat([pivoted_data_logon, pivoted_data_device], how\u001b[38;5;241m=\u001b[39m\u001b[38;5;124m'\u001b[39m\u001b[38;5;124mouter\u001b[39m\u001b[38;5;124m'\u001b[39m)\n",
      "\u001b[0;31mTypeError\u001b[0m: concat() got an unexpected keyword argument 'how'"
     ]
    }
   ],
   "source": [
    "merged_data_all = pd.concat([pivoted_data_logon, pivoted_data_device])"
   ]
  },
  {
   "cell_type": "code",
   "execution_count": 41,
   "id": "80f36fa1-32f2-4483-a8cf-2dcbd53b9522",
   "metadata": {},
   "outputs": [],
   "source": [
    "merged_data_all.sort_values(by='date', inplace=True)"
   ]
  },
  {
   "cell_type": "code",
   "execution_count": 43,
   "id": "796d3044-9f23-4aba-ae77-483da8814cfd",
   "metadata": {},
   "outputs": [
    {
     "name": "stdout",
     "output_type": "stream",
     "text": [
      "                    date          user  logon  logoff  connect  disconnect\n",
      "0    2010-01-04 00:10:00  DTAA/KEE0997    0.0     1.0      NaN         NaN\n",
      "1    2010-01-04 00:52:00  DTAA/KEE0997    1.0     0.0      NaN         NaN\n",
      "2    2010-01-04 01:17:00  DTAA/KEE0997    0.0     1.0      NaN         NaN\n",
      "3    2010-01-04 01:28:00  DTAA/KEE0997    1.0     0.0      NaN         NaN\n",
      "4    2010-01-04 01:57:00  DTAA/BJM0992    0.0     1.0      NaN         NaN\n",
      "...                  ...           ...    ...     ...      ...         ...\n",
      "9995 2010-03-16 10:00:00  DTAA/RVS0852    NaN     NaN      1.0         0.0\n",
      "9996 2010-03-16 10:03:00  DTAA/XQW0354    NaN     NaN      1.0         0.0\n",
      "9997 2010-03-16 10:05:00  DTAA/VCG0663    NaN     NaN      1.0         0.0\n",
      "9998 2010-03-16 10:10:00  DTAA/AJB0370    NaN     NaN      0.0         1.0\n",
      "9999 2010-03-16 10:21:00  DTAA/CTH0856    NaN     NaN      1.0         0.0\n",
      "\n",
      "[20000 rows x 6 columns]\n"
     ]
    }
   ],
   "source": [
    "print(merged_data_all)"
   ]
  },
  {
   "cell_type": "code",
   "execution_count": 44,
   "id": "5e7329e5-e2f6-44f7-af5d-cdc7d23a8bcd",
   "metadata": {},
   "outputs": [],
   "source": [
    "merged_data_all.reset_index(drop=True, inplace=True)"
   ]
  },
  {
   "cell_type": "code",
   "execution_count": 45,
   "id": "0761d86c-8160-4cbd-a3b8-c265ab610828",
   "metadata": {},
   "outputs": [
    {
     "name": "stdout",
     "output_type": "stream",
     "text": [
      "                     date          user  logon  logoff  connect  disconnect\n",
      "0     2010-01-04 00:10:00  DTAA/KEE0997    0.0     1.0      NaN         NaN\n",
      "1     2010-01-04 00:52:00  DTAA/KEE0997    1.0     0.0      NaN         NaN\n",
      "2     2010-01-04 01:17:00  DTAA/KEE0997    0.0     1.0      NaN         NaN\n",
      "3     2010-01-04 01:28:00  DTAA/KEE0997    1.0     0.0      NaN         NaN\n",
      "4     2010-01-04 01:57:00  DTAA/BJM0992    0.0     1.0      NaN         NaN\n",
      "...                   ...           ...    ...     ...      ...         ...\n",
      "19995 2010-03-16 10:00:00  DTAA/RVS0852    NaN     NaN      1.0         0.0\n",
      "19996 2010-03-16 10:03:00  DTAA/XQW0354    NaN     NaN      1.0         0.0\n",
      "19997 2010-03-16 10:05:00  DTAA/VCG0663    NaN     NaN      1.0         0.0\n",
      "19998 2010-03-16 10:10:00  DTAA/AJB0370    NaN     NaN      0.0         1.0\n",
      "19999 2010-03-16 10:21:00  DTAA/CTH0856    NaN     NaN      1.0         0.0\n",
      "\n",
      "[20000 rows x 6 columns]\n"
     ]
    }
   ],
   "source": [
    "print(merged_data_all)"
   ]
  },
  {
   "cell_type": "markdown",
   "id": "67afc319-0860-4711-a386-9040586ae5ed",
   "metadata": {},
   "source": [
    "### CONVERT FLOAT TO INT\n",
    "merged_df['value1'] = merged_df['value1'].fillna(0).astype(int)"
   ]
  },
  {
   "cell_type": "code",
   "execution_count": 49,
   "id": "e2391683-c9f0-4e37-9cbb-8a6552d699ec",
   "metadata": {},
   "outputs": [],
   "source": [
    "merged_data_all['logon'] =merged_data_all['logon'].fillna(0).astype('int8')\n",
    "merged_data_all['logoff'] =merged_data_all['logoff'].fillna(1).astype('int8') # default i will take as logoff\n",
    "merged_data_all['connect'] =merged_data_all['connect'].fillna(0).astype('int8')\n",
    "merged_data_all['disconnect'] =merged_data_all['disconnect'].fillna(1).astype('int8') # default i will take as disconnected\n"
   ]
  },
  {
   "cell_type": "code",
   "execution_count": 50,
   "id": "42053a55-3343-4d96-9dc3-7d2d3b79bb1a",
   "metadata": {},
   "outputs": [
    {
     "name": "stdout",
     "output_type": "stream",
     "text": [
      "<class 'pandas.core.frame.DataFrame'>\n",
      "RangeIndex: 20000 entries, 0 to 19999\n",
      "Data columns (total 6 columns):\n",
      " #   Column      Non-Null Count  Dtype         \n",
      "---  ------      --------------  -----         \n",
      " 0   date        20000 non-null  datetime64[ns]\n",
      " 1   user        20000 non-null  object        \n",
      " 2   logon       20000 non-null  int8          \n",
      " 3   logoff      20000 non-null  int8          \n",
      " 4   connect     20000 non-null  int8          \n",
      " 5   disconnect  20000 non-null  int8          \n",
      "dtypes: datetime64[ns](1), int8(4), object(1)\n",
      "memory usage: 390.8+ KB\n"
     ]
    }
   ],
   "source": [
    "merged_data_all.info()"
   ]
  },
  {
   "cell_type": "code",
   "execution_count": 55,
   "id": "97239b13-b43f-49f6-85be-290179d874a8",
   "metadata": {},
   "outputs": [
    {
     "name": "stdout",
     "output_type": "stream",
     "text": [
      "                     date          user  logon  logoff  connect  disconnect\n",
      "0     2010-01-04 00:10:00  DTAA/KEE0997      0       1        0           1\n",
      "1     2010-01-04 00:52:00  DTAA/KEE0997      1       0        0           1\n",
      "2     2010-01-04 01:17:00  DTAA/KEE0997      0       1        0           1\n",
      "3     2010-01-04 01:28:00  DTAA/KEE0997      1       0        0           1\n",
      "4     2010-01-04 01:57:00  DTAA/BJM0992      0       1        0           1\n",
      "...                   ...           ...    ...     ...      ...         ...\n",
      "19995 2010-03-16 10:00:00  DTAA/RVS0852      0       1        1           0\n",
      "19996 2010-03-16 10:03:00  DTAA/XQW0354      0       1        1           0\n",
      "19997 2010-03-16 10:05:00  DTAA/VCG0663      0       1        1           0\n",
      "19998 2010-03-16 10:10:00  DTAA/AJB0370      0       1        0           1\n",
      "19999 2010-03-16 10:21:00  DTAA/CTH0856      0       1        1           0\n",
      "\n",
      "[20000 rows x 6 columns]\n"
     ]
    }
   ],
   "source": [
    "print(merged_data_all)"
   ]
  },
  {
   "cell_type": "code",
   "execution_count": 54,
   "id": "4fc8b10b-6b02-4f4e-92a1-cfea7f51c848",
   "metadata": {},
   "outputs": [],
   "source": [
    "merged_data_all.to_csv(\"./merged_logon_device.csv\", index=False)"
   ]
  },
  {
   "cell_type": "markdown",
   "id": "f085f814-6cd4-4ca4-a45c-8a70380a6686",
   "metadata": {},
   "source": [
    "## TRYING FILES AND EMAILS"
   ]
  },
  {
   "cell_type": "code",
   "execution_count": 3,
   "id": "b8c2d058-437c-40c0-9ad7-61a4cf2f9cb5",
   "metadata": {},
   "outputs": [],
   "source": [
    "import pandas as pd"
   ]
  },
  {
   "cell_type": "code",
   "execution_count": 4,
   "id": "4e93d826-7ad2-4408-9fa6-d452442f7051",
   "metadata": {},
   "outputs": [],
   "source": [
    "\n",
    "files_data = pd.read_csv(\"../../autonomous-cybersecurity/datasets/r1/newFile.csv\")"
   ]
  },
  {
   "cell_type": "code",
   "execution_count": 7,
   "id": "030b950f-8f0a-4a46-ac98-1993e3a959d4",
   "metadata": {},
   "outputs": [
    {
     "name": "stdout",
     "output_type": "stream",
     "text": [
      "<class 'pandas.core.frame.DataFrame'>\n",
      "RangeIndex: 5 entries, 0 to 4\n",
      "Data columns (total 9 columns):\n",
      " #   Column                Non-Null Count  Dtype \n",
      "---  ------                --------------  ----- \n",
      " 0   id                    5 non-null      object\n",
      " 1   date                  5 non-null      object\n",
      " 2   user                  5 non-null      object\n",
      " 3   pc                    5 non-null      object\n",
      " 4   filename              5 non-null      object\n",
      " 5   file_activity         5 non-null      object\n",
      " 6   to_removable_media    5 non-null      bool  \n",
      " 7   from_removable_media  5 non-null      bool  \n",
      " 8   content               5 non-null      object\n",
      "dtypes: bool(2), object(7)\n",
      "memory usage: 422.0+ bytes\n"
     ]
    }
   ],
   "source": [
    "files_data.head().info()"
   ]
  },
  {
   "cell_type": "code",
   "execution_count": 9,
   "id": "75b8fc71-c0f2-4e75-9cb7-bc07079e2616",
   "metadata": {},
   "outputs": [
    {
     "data": {
      "text/plain": [
       "0              R:\\60WBQE7S.doc\n",
       "1              R:\\0VGILDW8.pdf\n",
       "2              R:\\60WBQE7S.doc\n",
       "3      R:\\22B5gX4\\H8Y96RRE.doc\n",
       "4      R:\\SDH2394\\7XRCV2N5.pdf\n",
       "                ...           \n",
       "995            R:\\EKOKB54F.doc\n",
       "996    C:\\93PTV71\\SZSQNMK4.doc\n",
       "997    R:\\58zjDC0\\UCZ6F25J.doc\n",
       "998            R:\\EKOKB54F.doc\n",
       "999            R:\\MHT9VT4O.pdf\n",
       "Name: filename, Length: 1000, dtype: object"
      ]
     },
     "execution_count": 9,
     "metadata": {},
     "output_type": "execute_result"
    }
   ],
   "source": [
    "files_data['filename']"
   ]
  },
  {
   "cell_type": "code",
   "execution_count": 19,
   "id": "140e8213-5da0-4bd4-83af-d41d6bab875b",
   "metadata": {},
   "outputs": [
    {
     "data": {
      "text/plain": [
       "Index(['id', 'date', 'user', 'pc', 'filename', 'file_activity',\n",
       "       'to_removable_media', 'from_removable_media', 'content'],\n",
       "      dtype='object')"
      ]
     },
     "execution_count": 19,
     "metadata": {},
     "output_type": "execute_result"
    }
   ],
   "source": [
    "files_data.columns"
   ]
  },
  {
   "cell_type": "code",
   "execution_count": 21,
   "id": "37ccda0f-4e02-4348-b1d6-c264641d4b02",
   "metadata": {},
   "outputs": [],
   "source": [
    "# files_data['filename'].str.extract(r'([^.]+$)', expand=False) == 'exe' gives out only exe files\n",
    "file_ext = pd.DataFrame()"
   ]
  },
  {
   "cell_type": "code",
   "execution_count": 22,
   "id": "2503dc8e-7277-4745-a313-e80f141251cf",
   "metadata": {},
   "outputs": [],
   "source": [
    "file_ext['file_ext'] = files_data['filename'].str.extract(r'(\\.[^.]+$)', expand=False).str[1:]"
   ]
  },
  {
   "cell_type": "code",
   "execution_count": 24,
   "id": "57b2b26a-0fc0-4e03-a5e3-4e8f8c46c0a6",
   "metadata": {},
   "outputs": [],
   "source": [
    "files_data['file_ext'] = files_data['filename'].str.extract(r'(\\.[^.]+$)', expand=False).str[1:]"
   ]
  },
  {
   "cell_type": "code",
   "execution_count": 26,
   "id": "a54c3e25-c68b-4da2-8846-7e43aed1f958",
   "metadata": {},
   "outputs": [
    {
     "data": {
      "text/html": [
       "<div>\n",
       "<style scoped>\n",
       "    .dataframe tbody tr th:only-of-type {\n",
       "        vertical-align: middle;\n",
       "    }\n",
       "\n",
       "    .dataframe tbody tr th {\n",
       "        vertical-align: top;\n",
       "    }\n",
       "\n",
       "    .dataframe thead th {\n",
       "        text-align: right;\n",
       "    }\n",
       "</style>\n",
       "<table border=\"1\" class=\"dataframe\">\n",
       "  <thead>\n",
       "    <tr style=\"text-align: right;\">\n",
       "      <th></th>\n",
       "      <th>id</th>\n",
       "      <th>date</th>\n",
       "      <th>user</th>\n",
       "      <th>pc</th>\n",
       "      <th>filename</th>\n",
       "      <th>file_activity</th>\n",
       "      <th>to_removable_media</th>\n",
       "      <th>from_removable_media</th>\n",
       "      <th>content</th>\n",
       "      <th>file_ext</th>\n",
       "    </tr>\n",
       "  </thead>\n",
       "  <tbody>\n",
       "    <tr>\n",
       "      <th>0</th>\n",
       "      <td>{F3E2-X3MV05YQ-3516SZDT}</td>\n",
       "      <td>01-02-2010 07:19</td>\n",
       "      <td>SDH2394</td>\n",
       "      <td>PC-5849</td>\n",
       "      <td>R:\\60WBQE7S.doc</td>\n",
       "      <td>File Open</td>\n",
       "      <td>False</td>\n",
       "      <td>True</td>\n",
       "      <td>D0-CF-11-E0-A1-B1-1A-E1 Ernesztin's brother, L...</td>\n",
       "      <td>doc</td>\n",
       "    </tr>\n",
       "  </tbody>\n",
       "</table>\n",
       "</div>"
      ],
      "text/plain": [
       "                         id              date     user       pc  \\\n",
       "0  {F3E2-X3MV05YQ-3516SZDT}  01-02-2010 07:19  SDH2394  PC-5849   \n",
       "\n",
       "          filename file_activity  to_removable_media  from_removable_media  \\\n",
       "0  R:\\60WBQE7S.doc     File Open               False                  True   \n",
       "\n",
       "                                             content file_ext  \n",
       "0  D0-CF-11-E0-A1-B1-1A-E1 Ernesztin's brother, L...      doc  "
      ]
     },
     "execution_count": 26,
     "metadata": {},
     "output_type": "execute_result"
    }
   ],
   "source": [
    "files_data.head(1)"
   ]
  },
  {
   "cell_type": "code",
   "execution_count": 29,
   "id": "b5e766f8-91d8-4db7-8578-774df367adeb",
   "metadata": {},
   "outputs": [],
   "source": [
    "file_data_new = files_data[['date', 'user', 'file_ext', 'from_removable_media']].copy()"
   ]
  },
  {
   "cell_type": "code",
   "execution_count": 30,
   "id": "78f21920-4e3c-4653-9e30-aebd27b9919f",
   "metadata": {},
   "outputs": [
    {
     "data": {
      "text/html": [
       "<div>\n",
       "<style scoped>\n",
       "    .dataframe tbody tr th:only-of-type {\n",
       "        vertical-align: middle;\n",
       "    }\n",
       "\n",
       "    .dataframe tbody tr th {\n",
       "        vertical-align: top;\n",
       "    }\n",
       "\n",
       "    .dataframe thead th {\n",
       "        text-align: right;\n",
       "    }\n",
       "</style>\n",
       "<table border=\"1\" class=\"dataframe\">\n",
       "  <thead>\n",
       "    <tr style=\"text-align: right;\">\n",
       "      <th></th>\n",
       "      <th>date</th>\n",
       "      <th>user</th>\n",
       "      <th>file_ext</th>\n",
       "      <th>from_removable_media</th>\n",
       "    </tr>\n",
       "  </thead>\n",
       "  <tbody>\n",
       "    <tr>\n",
       "      <th>0</th>\n",
       "      <td>01-02-2010 07:19</td>\n",
       "      <td>SDH2394</td>\n",
       "      <td>doc</td>\n",
       "      <td>True</td>\n",
       "    </tr>\n",
       "    <tr>\n",
       "      <th>1</th>\n",
       "      <td>01-02-2010 07:21</td>\n",
       "      <td>SDH2394</td>\n",
       "      <td>pdf</td>\n",
       "      <td>False</td>\n",
       "    </tr>\n",
       "    <tr>\n",
       "      <th>2</th>\n",
       "      <td>01-02-2010 07:22</td>\n",
       "      <td>SDH2394</td>\n",
       "      <td>doc</td>\n",
       "      <td>True</td>\n",
       "    </tr>\n",
       "    <tr>\n",
       "      <th>3</th>\n",
       "      <td>01-02-2010 07:24</td>\n",
       "      <td>SDH2394</td>\n",
       "      <td>doc</td>\n",
       "      <td>False</td>\n",
       "    </tr>\n",
       "    <tr>\n",
       "      <th>4</th>\n",
       "      <td>01-02-2010 07:24</td>\n",
       "      <td>SDH2394</td>\n",
       "      <td>pdf</td>\n",
       "      <td>False</td>\n",
       "    </tr>\n",
       "    <tr>\n",
       "      <th>...</th>\n",
       "      <td>...</td>\n",
       "      <td>...</td>\n",
       "      <td>...</td>\n",
       "      <td>...</td>\n",
       "    </tr>\n",
       "    <tr>\n",
       "      <th>995</th>\n",
       "      <td>01-03-2010 13:10</td>\n",
       "      <td>CHM1561</td>\n",
       "      <td>doc</td>\n",
       "      <td>False</td>\n",
       "    </tr>\n",
       "    <tr>\n",
       "      <th>996</th>\n",
       "      <td>01-03-2010 13:11</td>\n",
       "      <td>CHM1561</td>\n",
       "      <td>doc</td>\n",
       "      <td>False</td>\n",
       "    </tr>\n",
       "    <tr>\n",
       "      <th>997</th>\n",
       "      <td>01-03-2010 13:11</td>\n",
       "      <td>HMR0098</td>\n",
       "      <td>doc</td>\n",
       "      <td>True</td>\n",
       "    </tr>\n",
       "    <tr>\n",
       "      <th>998</th>\n",
       "      <td>01-03-2010 13:13</td>\n",
       "      <td>CHM1561</td>\n",
       "      <td>doc</td>\n",
       "      <td>True</td>\n",
       "    </tr>\n",
       "    <tr>\n",
       "      <th>999</th>\n",
       "      <td>01-03-2010 13:13</td>\n",
       "      <td>CHM1561</td>\n",
       "      <td>pdf</td>\n",
       "      <td>False</td>\n",
       "    </tr>\n",
       "  </tbody>\n",
       "</table>\n",
       "<p>1000 rows × 4 columns</p>\n",
       "</div>"
      ],
      "text/plain": [
       "                 date     user file_ext  from_removable_media\n",
       "0    01-02-2010 07:19  SDH2394      doc                  True\n",
       "1    01-02-2010 07:21  SDH2394      pdf                 False\n",
       "2    01-02-2010 07:22  SDH2394      doc                  True\n",
       "3    01-02-2010 07:24  SDH2394      doc                 False\n",
       "4    01-02-2010 07:24  SDH2394      pdf                 False\n",
       "..                ...      ...      ...                   ...\n",
       "995  01-03-2010 13:10  CHM1561      doc                 False\n",
       "996  01-03-2010 13:11  CHM1561      doc                 False\n",
       "997  01-03-2010 13:11  HMR0098      doc                  True\n",
       "998  01-03-2010 13:13  CHM1561      doc                  True\n",
       "999  01-03-2010 13:13  CHM1561      pdf                 False\n",
       "\n",
       "[1000 rows x 4 columns]"
      ]
     },
     "execution_count": 30,
     "metadata": {},
     "output_type": "execute_result"
    }
   ],
   "source": [
    "file_data_new"
   ]
  },
  {
   "cell_type": "code",
   "execution_count": 39,
   "id": "d4794d71-f14a-4f2b-8eca-61e96cdbd44f",
   "metadata": {},
   "outputs": [],
   "source": [
    "file_data_new['is_exe'] = (file_data_new['file_ext'] == 'exe').astype('int8')\n",
    "file_data_new['not_exe'] = (file_data_new['file_ext'] != 'exe').astype('int8')\n",
    "file_data_new['from_removable_media'] = file_data_new['from_removable_media'].astype('int8')\n"
   ]
  },
  {
   "cell_type": "code",
   "execution_count": 47,
   "id": "5d188d7b-5a3f-456a-87ad-8900ff2ec32e",
   "metadata": {},
   "outputs": [
    {
     "name": "stdout",
     "output_type": "stream",
     "text": [
      "<class 'pandas.core.frame.DataFrame'>\n",
      "RangeIndex: 1000 entries, 0 to 999\n",
      "Data columns (total 5 columns):\n",
      " #   Column                Non-Null Count  Dtype         \n",
      "---  ------                --------------  -----         \n",
      " 0   date                  1000 non-null   datetime64[ns]\n",
      " 1   user                  1000 non-null   object        \n",
      " 2   from_removable_media  1000 non-null   int8          \n",
      " 3   is_exe                1000 non-null   int8          \n",
      " 4   not_exe               1000 non-null   int8          \n",
      "dtypes: datetime64[ns](1), int8(3), object(1)\n",
      "memory usage: 18.7+ KB\n"
     ]
    }
   ],
   "source": [
    "file_data_new.info()"
   ]
  },
  {
   "cell_type": "code",
   "execution_count": 43,
   "id": "ba23708e-875a-40b9-bafd-7ec31145bd8f",
   "metadata": {},
   "outputs": [
    {
     "data": {
      "text/html": [
       "<div>\n",
       "<style scoped>\n",
       "    .dataframe tbody tr th:only-of-type {\n",
       "        vertical-align: middle;\n",
       "    }\n",
       "\n",
       "    .dataframe tbody tr th {\n",
       "        vertical-align: top;\n",
       "    }\n",
       "\n",
       "    .dataframe thead th {\n",
       "        text-align: right;\n",
       "    }\n",
       "</style>\n",
       "<table border=\"1\" class=\"dataframe\">\n",
       "  <thead>\n",
       "    <tr style=\"text-align: right;\">\n",
       "      <th></th>\n",
       "      <th>date</th>\n",
       "      <th>user</th>\n",
       "      <th>from_removable_media</th>\n",
       "      <th>is_exe</th>\n",
       "      <th>not_exe</th>\n",
       "    </tr>\n",
       "  </thead>\n",
       "  <tbody>\n",
       "    <tr>\n",
       "      <th>0</th>\n",
       "      <td>01-02-2010 07:19</td>\n",
       "      <td>SDH2394</td>\n",
       "      <td>1</td>\n",
       "      <td>0</td>\n",
       "      <td>1</td>\n",
       "    </tr>\n",
       "    <tr>\n",
       "      <th>1</th>\n",
       "      <td>01-02-2010 07:21</td>\n",
       "      <td>SDH2394</td>\n",
       "      <td>0</td>\n",
       "      <td>0</td>\n",
       "      <td>1</td>\n",
       "    </tr>\n",
       "    <tr>\n",
       "      <th>2</th>\n",
       "      <td>01-02-2010 07:22</td>\n",
       "      <td>SDH2394</td>\n",
       "      <td>1</td>\n",
       "      <td>0</td>\n",
       "      <td>1</td>\n",
       "    </tr>\n",
       "    <tr>\n",
       "      <th>3</th>\n",
       "      <td>01-02-2010 07:24</td>\n",
       "      <td>SDH2394</td>\n",
       "      <td>0</td>\n",
       "      <td>0</td>\n",
       "      <td>1</td>\n",
       "    </tr>\n",
       "    <tr>\n",
       "      <th>4</th>\n",
       "      <td>01-02-2010 07:24</td>\n",
       "      <td>SDH2394</td>\n",
       "      <td>0</td>\n",
       "      <td>0</td>\n",
       "      <td>1</td>\n",
       "    </tr>\n",
       "    <tr>\n",
       "      <th>...</th>\n",
       "      <td>...</td>\n",
       "      <td>...</td>\n",
       "      <td>...</td>\n",
       "      <td>...</td>\n",
       "      <td>...</td>\n",
       "    </tr>\n",
       "    <tr>\n",
       "      <th>995</th>\n",
       "      <td>01-03-2010 13:10</td>\n",
       "      <td>CHM1561</td>\n",
       "      <td>0</td>\n",
       "      <td>0</td>\n",
       "      <td>1</td>\n",
       "    </tr>\n",
       "    <tr>\n",
       "      <th>996</th>\n",
       "      <td>01-03-2010 13:11</td>\n",
       "      <td>CHM1561</td>\n",
       "      <td>0</td>\n",
       "      <td>0</td>\n",
       "      <td>1</td>\n",
       "    </tr>\n",
       "    <tr>\n",
       "      <th>997</th>\n",
       "      <td>01-03-2010 13:11</td>\n",
       "      <td>HMR0098</td>\n",
       "      <td>1</td>\n",
       "      <td>0</td>\n",
       "      <td>1</td>\n",
       "    </tr>\n",
       "    <tr>\n",
       "      <th>998</th>\n",
       "      <td>01-03-2010 13:13</td>\n",
       "      <td>CHM1561</td>\n",
       "      <td>1</td>\n",
       "      <td>0</td>\n",
       "      <td>1</td>\n",
       "    </tr>\n",
       "    <tr>\n",
       "      <th>999</th>\n",
       "      <td>01-03-2010 13:13</td>\n",
       "      <td>CHM1561</td>\n",
       "      <td>0</td>\n",
       "      <td>0</td>\n",
       "      <td>1</td>\n",
       "    </tr>\n",
       "  </tbody>\n",
       "</table>\n",
       "<p>1000 rows × 5 columns</p>\n",
       "</div>"
      ],
      "text/plain": [
       "                 date     user  from_removable_media  is_exe  not_exe\n",
       "0    01-02-2010 07:19  SDH2394                     1       0        1\n",
       "1    01-02-2010 07:21  SDH2394                     0       0        1\n",
       "2    01-02-2010 07:22  SDH2394                     1       0        1\n",
       "3    01-02-2010 07:24  SDH2394                     0       0        1\n",
       "4    01-02-2010 07:24  SDH2394                     0       0        1\n",
       "..                ...      ...                   ...     ...      ...\n",
       "995  01-03-2010 13:10  CHM1561                     0       0        1\n",
       "996  01-03-2010 13:11  CHM1561                     0       0        1\n",
       "997  01-03-2010 13:11  HMR0098                     1       0        1\n",
       "998  01-03-2010 13:13  CHM1561                     1       0        1\n",
       "999  01-03-2010 13:13  CHM1561                     0       0        1\n",
       "\n",
       "[1000 rows x 5 columns]"
      ]
     },
     "execution_count": 43,
     "metadata": {},
     "output_type": "execute_result"
    }
   ],
   "source": [
    "file_data_new"
   ]
  },
  {
   "cell_type": "code",
   "execution_count": 45,
   "id": "2cb40878-977e-4c38-a826-a18b19ce66e2",
   "metadata": {},
   "outputs": [],
   "source": [
    "# file_data_new = file_data_new.drop('file_ext', axis=1) \n",
    "# FILEEXT COLUMN DELETED"
   ]
  },
  {
   "cell_type": "code",
   "execution_count": 46,
   "id": "aac58052-4c13-4407-9d28-46e786cbb0c2",
   "metadata": {},
   "outputs": [],
   "source": [
    "DATEFORMAT = '%d-%m-%Y %H:%M'\n",
    "file_data_new['date'] = pd.to_datetime(file_data_new['date'], format=DATEFORMAT)"
   ]
  },
  {
   "cell_type": "code",
   "execution_count": 48,
   "id": "8bf6abc0-7b98-4ca9-9992-bf6282595f70",
   "metadata": {},
   "outputs": [],
   "source": [
    "file_data_new.to_csv(\"./file_processed.csv\", index=False)"
   ]
  },
  {
   "cell_type": "markdown",
   "id": "c9e960fd-c746-44ef-8ca3-bf62f7ff3043",
   "metadata": {},
   "source": [
    "### EMAIL PROCESSING"
   ]
  },
  {
   "cell_type": "code",
   "execution_count": 49,
   "id": "fcf50050-e1cb-4e38-888e-47d1d2b223ad",
   "metadata": {},
   "outputs": [],
   "source": [
    "email_data = pd.read_csv(\"../../autonomous-cybersecurity/datasets/r1/newEmail.csv\")"
   ]
  },
  {
   "cell_type": "code",
   "execution_count": 59,
   "id": "4dcf46a2-f23b-495d-bd41-a088bbe69b6c",
   "metadata": {},
   "outputs": [
    {
     "data": {
      "text/html": [
       "<div>\n",
       "<style scoped>\n",
       "    .dataframe tbody tr th:only-of-type {\n",
       "        vertical-align: middle;\n",
       "    }\n",
       "\n",
       "    .dataframe tbody tr th {\n",
       "        vertical-align: top;\n",
       "    }\n",
       "\n",
       "    .dataframe thead th {\n",
       "        text-align: right;\n",
       "    }\n",
       "</style>\n",
       "<table border=\"1\" class=\"dataframe\">\n",
       "  <thead>\n",
       "    <tr style=\"text-align: right;\">\n",
       "      <th></th>\n",
       "      <th>id</th>\n",
       "      <th>date</th>\n",
       "      <th>user</th>\n",
       "      <th>pc</th>\n",
       "      <th>to</th>\n",
       "      <th>cc</th>\n",
       "      <th>bcc</th>\n",
       "      <th>from</th>\n",
       "      <th>email_activity</th>\n",
       "      <th>size</th>\n",
       "      <th>email_attachments</th>\n",
       "      <th>content</th>\n",
       "    </tr>\n",
       "  </thead>\n",
       "  <tbody>\n",
       "    <tr>\n",
       "      <th>6</th>\n",
       "      <td>{Q5K6-Q1NE29SP-5403DYSX}</td>\n",
       "      <td>01-02-2010 06:50</td>\n",
       "      <td>HDB1666</td>\n",
       "      <td>PC-6793</td>\n",
       "      <td>Hector.Donovan.Bray@dtaa.com</td>\n",
       "      <td>NaN</td>\n",
       "      <td>NaN</td>\n",
       "      <td>Molina.Curran@northropgrumman.com</td>\n",
       "      <td>View</td>\n",
       "      <td>29505</td>\n",
       "      <td>NaN</td>\n",
       "      <td>The number of imprisoned children increased 6....</td>\n",
       "    </tr>\n",
       "    <tr>\n",
       "      <th>8</th>\n",
       "      <td>{Z4F1-N5SI80JP-1919TEYG}</td>\n",
       "      <td>01-02-2010 06:54</td>\n",
       "      <td>LIM1718</td>\n",
       "      <td>PC-7539</td>\n",
       "      <td>Lisandra.Inez.Myers@dtaa.com</td>\n",
       "      <td>NaN</td>\n",
       "      <td>NaN</td>\n",
       "      <td>Maryam_Mosley@northropgrumman.com</td>\n",
       "      <td>View</td>\n",
       "      <td>27163</td>\n",
       "      <td>NaN</td>\n",
       "      <td>Murray explained: Fourth through sixth grades ...</td>\n",
       "    </tr>\n",
       "    <tr>\n",
       "      <th>11</th>\n",
       "      <td>{P4B0-D7CG41WP-7808NYYL}</td>\n",
       "      <td>01-02-2010 06:59</td>\n",
       "      <td>HDB1666</td>\n",
       "      <td>PC-6793</td>\n",
       "      <td>Hector.Donovan.Bray@dtaa.com</td>\n",
       "      <td>NaN</td>\n",
       "      <td>NaN</td>\n",
       "      <td>Jamalia_Jacobson@lockheedmartin.com</td>\n",
       "      <td>View</td>\n",
       "      <td>21024</td>\n",
       "      <td>NaN</td>\n",
       "      <td>Although the plan was abandoned, the prisoners...</td>\n",
       "    </tr>\n",
       "    <tr>\n",
       "      <th>15</th>\n",
       "      <td>{X8I1-S3GO75IU-4815SRQE}</td>\n",
       "      <td>01-02-2010 07:03</td>\n",
       "      <td>LIM1718</td>\n",
       "      <td>PC-7539</td>\n",
       "      <td>Lisandra.Inez.Myers@dtaa.com</td>\n",
       "      <td>NaN</td>\n",
       "      <td>NaN</td>\n",
       "      <td>GJH8633@hp.com</td>\n",
       "      <td>View</td>\n",
       "      <td>31594</td>\n",
       "      <td>NaN</td>\n",
       "      <td>The album's download and \"discbox\" sales were ...</td>\n",
       "    </tr>\n",
       "    <tr>\n",
       "      <th>20</th>\n",
       "      <td>{P0N5-C8ID55NI-2897XEXX}</td>\n",
       "      <td>01-02-2010 07:10</td>\n",
       "      <td>ATH0225</td>\n",
       "      <td>PC-7844</td>\n",
       "      <td>Andrew.Tobias.Hoover@dtaa.com</td>\n",
       "      <td>NaN</td>\n",
       "      <td>NaN</td>\n",
       "      <td>ADW6237@harris.com</td>\n",
       "      <td>View</td>\n",
       "      <td>22669</td>\n",
       "      <td>NaN</td>\n",
       "      <td>Like many rodents, guinea pigs sometimes parti...</td>\n",
       "    </tr>\n",
       "    <tr>\n",
       "      <th>...</th>\n",
       "      <td>...</td>\n",
       "      <td>...</td>\n",
       "      <td>...</td>\n",
       "      <td>...</td>\n",
       "      <td>...</td>\n",
       "      <td>...</td>\n",
       "      <td>...</td>\n",
       "      <td>...</td>\n",
       "      <td>...</td>\n",
       "      <td>...</td>\n",
       "      <td>...</td>\n",
       "      <td>...</td>\n",
       "    </tr>\n",
       "    <tr>\n",
       "      <th>988</th>\n",
       "      <td>{O8Z6-W2CS67NH-4314CVFW}</td>\n",
       "      <td>01-02-2010 12:48</td>\n",
       "      <td>SRS0129</td>\n",
       "      <td>PC-7008</td>\n",
       "      <td>Roy_Norman@verizon.net</td>\n",
       "      <td>Samuel_Shaw@sbcglobal.net</td>\n",
       "      <td>NaN</td>\n",
       "      <td>Samuel_Shaw@sbcglobal.net</td>\n",
       "      <td>Send</td>\n",
       "      <td>23926</td>\n",
       "      <td>NaN</td>\n",
       "      <td>One of the highlights of Powderfinger's United...</td>\n",
       "    </tr>\n",
       "    <tr>\n",
       "      <th>991</th>\n",
       "      <td>{V4P0-F4IT75IE-8495OHRJ}</td>\n",
       "      <td>01-02-2010 12:49</td>\n",
       "      <td>SRS0129</td>\n",
       "      <td>PC-7008</td>\n",
       "      <td>Samuel.Ronan.Shaw@dtaa.com</td>\n",
       "      <td>NaN</td>\n",
       "      <td>NaN</td>\n",
       "      <td>LCM337@lockheedmartin.com</td>\n",
       "      <td>View</td>\n",
       "      <td>33766</td>\n",
       "      <td>NaN</td>\n",
       "      <td>The DNOG sailed for the British colony of Sier...</td>\n",
       "    </tr>\n",
       "    <tr>\n",
       "      <th>992</th>\n",
       "      <td>{D4E8-T4BN82UG-3235RZXE}</td>\n",
       "      <td>01-02-2010 12:49</td>\n",
       "      <td>GAH0525</td>\n",
       "      <td>PC-7394</td>\n",
       "      <td>Glenna.Althea.Hood@dtaa.com</td>\n",
       "      <td>NaN</td>\n",
       "      <td>NaN</td>\n",
       "      <td>Scarlett_Mccullough@lockheedmartin.com</td>\n",
       "      <td>View</td>\n",
       "      <td>21634</td>\n",
       "      <td>NaN</td>\n",
       "      <td>Until either of the particles is observed, the...</td>\n",
       "    </tr>\n",
       "    <tr>\n",
       "      <th>993</th>\n",
       "      <td>{T2P7-H9HS75RF-9539LKYU}</td>\n",
       "      <td>01-02-2010 12:50</td>\n",
       "      <td>SRS0129</td>\n",
       "      <td>PC-7008</td>\n",
       "      <td>Kirestin_Fleming@yahoo.com</td>\n",
       "      <td>Samuel_Shaw@sbcglobal.net</td>\n",
       "      <td>NaN</td>\n",
       "      <td>Samuel_Shaw@sbcglobal.net</td>\n",
       "      <td>Send</td>\n",
       "      <td>28142</td>\n",
       "      <td>NaN</td>\n",
       "      <td>Thus, he expressed confusion at its being cons...</td>\n",
       "    </tr>\n",
       "    <tr>\n",
       "      <th>994</th>\n",
       "      <td>{E6A8-B2UR24GD-4104KLTX}</td>\n",
       "      <td>01-02-2010 12:50</td>\n",
       "      <td>SRS0129</td>\n",
       "      <td>PC-7008</td>\n",
       "      <td>Samuel.Ronan.Shaw@dtaa.com</td>\n",
       "      <td>NaN</td>\n",
       "      <td>NaN</td>\n",
       "      <td>Hill-Plato@lockheedmartin.com</td>\n",
       "      <td>View</td>\n",
       "      <td>31313</td>\n",
       "      <td>NaN</td>\n",
       "      <td>Damage totaled $6.2 million (2007 USD). Rainfa...</td>\n",
       "    </tr>\n",
       "  </tbody>\n",
       "</table>\n",
       "<p>431 rows × 12 columns</p>\n",
       "</div>"
      ],
      "text/plain": [
       "                           id              date     user       pc  \\\n",
       "6    {Q5K6-Q1NE29SP-5403DYSX}  01-02-2010 06:50  HDB1666  PC-6793   \n",
       "8    {Z4F1-N5SI80JP-1919TEYG}  01-02-2010 06:54  LIM1718  PC-7539   \n",
       "11   {P4B0-D7CG41WP-7808NYYL}  01-02-2010 06:59  HDB1666  PC-6793   \n",
       "15   {X8I1-S3GO75IU-4815SRQE}  01-02-2010 07:03  LIM1718  PC-7539   \n",
       "20   {P0N5-C8ID55NI-2897XEXX}  01-02-2010 07:10  ATH0225  PC-7844   \n",
       "..                        ...               ...      ...      ...   \n",
       "988  {O8Z6-W2CS67NH-4314CVFW}  01-02-2010 12:48  SRS0129  PC-7008   \n",
       "991  {V4P0-F4IT75IE-8495OHRJ}  01-02-2010 12:49  SRS0129  PC-7008   \n",
       "992  {D4E8-T4BN82UG-3235RZXE}  01-02-2010 12:49  GAH0525  PC-7394   \n",
       "993  {T2P7-H9HS75RF-9539LKYU}  01-02-2010 12:50  SRS0129  PC-7008   \n",
       "994  {E6A8-B2UR24GD-4104KLTX}  01-02-2010 12:50  SRS0129  PC-7008   \n",
       "\n",
       "                                to                         cc  bcc  \\\n",
       "6     Hector.Donovan.Bray@dtaa.com                        NaN  NaN   \n",
       "8     Lisandra.Inez.Myers@dtaa.com                        NaN  NaN   \n",
       "11    Hector.Donovan.Bray@dtaa.com                        NaN  NaN   \n",
       "15    Lisandra.Inez.Myers@dtaa.com                        NaN  NaN   \n",
       "20   Andrew.Tobias.Hoover@dtaa.com                        NaN  NaN   \n",
       "..                             ...                        ...  ...   \n",
       "988         Roy_Norman@verizon.net  Samuel_Shaw@sbcglobal.net  NaN   \n",
       "991     Samuel.Ronan.Shaw@dtaa.com                        NaN  NaN   \n",
       "992    Glenna.Althea.Hood@dtaa.com                        NaN  NaN   \n",
       "993     Kirestin_Fleming@yahoo.com  Samuel_Shaw@sbcglobal.net  NaN   \n",
       "994     Samuel.Ronan.Shaw@dtaa.com                        NaN  NaN   \n",
       "\n",
       "                                       from email_activity   size  \\\n",
       "6         Molina.Curran@northropgrumman.com           View  29505   \n",
       "8         Maryam_Mosley@northropgrumman.com           View  27163   \n",
       "11      Jamalia_Jacobson@lockheedmartin.com           View  21024   \n",
       "15                           GJH8633@hp.com           View  31594   \n",
       "20                       ADW6237@harris.com           View  22669   \n",
       "..                                      ...            ...    ...   \n",
       "988               Samuel_Shaw@sbcglobal.net           Send  23926   \n",
       "991               LCM337@lockheedmartin.com           View  33766   \n",
       "992  Scarlett_Mccullough@lockheedmartin.com           View  21634   \n",
       "993               Samuel_Shaw@sbcglobal.net           Send  28142   \n",
       "994           Hill-Plato@lockheedmartin.com           View  31313   \n",
       "\n",
       "    email_attachments                                            content  \n",
       "6                 NaN  The number of imprisoned children increased 6....  \n",
       "8                 NaN  Murray explained: Fourth through sixth grades ...  \n",
       "11                NaN  Although the plan was abandoned, the prisoners...  \n",
       "15                NaN  The album's download and \"discbox\" sales were ...  \n",
       "20                NaN  Like many rodents, guinea pigs sometimes parti...  \n",
       "..                ...                                                ...  \n",
       "988               NaN  One of the highlights of Powderfinger's United...  \n",
       "991               NaN  The DNOG sailed for the British colony of Sier...  \n",
       "992               NaN  Until either of the particles is observed, the...  \n",
       "993               NaN  Thus, he expressed confusion at its being cons...  \n",
       "994               NaN  Damage totaled $6.2 million (2007 USD). Rainfa...  \n",
       "\n",
       "[431 rows x 12 columns]"
      ]
     },
     "execution_count": 59,
     "metadata": {},
     "output_type": "execute_result"
    }
   ],
   "source": [
    "email_data[email_data['from'].str.split('@').str[1] != 'dtaa.com']"
   ]
  },
  {
   "cell_type": "code",
   "execution_count": 60,
   "id": "404e8f4d-4a17-4f88-8751-e37a8e2c163d",
   "metadata": {},
   "outputs": [
    {
     "data": {
      "text/plain": [
       "Index(['id', 'date', 'user', 'pc', 'to', 'cc', 'bcc', 'from', 'email_activity',\n",
       "       'size', 'email_attachments', 'content'],\n",
       "      dtype='object')"
      ]
     },
     "execution_count": 60,
     "metadata": {},
     "output_type": "execute_result"
    }
   ],
   "source": [
    "email_data.columns"
   ]
  },
  {
   "cell_type": "code",
   "execution_count": 64,
   "id": "e7a6b510-3474-40dc-bb71-32bfb5e7979d",
   "metadata": {},
   "outputs": [],
   "source": [
    " email_data = email_data.loc[:, ['date', 'user', 'from', 'to', 'email_attachments']]"
   ]
  },
  {
   "cell_type": "code",
   "execution_count": 66,
   "id": "bfffcfba-3e2f-4361-9447-00e0e6549929",
   "metadata": {},
   "outputs": [],
   "source": [
    "email_data = email_data.rename(columns={'email_attachments': 'attachment'})"
   ]
  },
  {
   "cell_type": "code",
   "execution_count": 68,
   "id": "985c3dc9-1aca-4f10-ac97-fabfed5eb606",
   "metadata": {},
   "outputs": [
    {
     "data": {
      "text/html": [
       "<div>\n",
       "<style scoped>\n",
       "    .dataframe tbody tr th:only-of-type {\n",
       "        vertical-align: middle;\n",
       "    }\n",
       "\n",
       "    .dataframe tbody tr th {\n",
       "        vertical-align: top;\n",
       "    }\n",
       "\n",
       "    .dataframe thead th {\n",
       "        text-align: right;\n",
       "    }\n",
       "</style>\n",
       "<table border=\"1\" class=\"dataframe\">\n",
       "  <thead>\n",
       "    <tr style=\"text-align: right;\">\n",
       "      <th></th>\n",
       "      <th>date</th>\n",
       "      <th>user</th>\n",
       "      <th>from</th>\n",
       "      <th>to</th>\n",
       "      <th>attachment</th>\n",
       "    </tr>\n",
       "  </thead>\n",
       "  <tbody>\n",
       "    <tr>\n",
       "      <th>0</th>\n",
       "      <td>01-02-2010 06:36</td>\n",
       "      <td>HDB1666</td>\n",
       "      <td>Hector.Donovan.Bray@dtaa.com</td>\n",
       "      <td>Louis.Bernard.Garza@dtaa.com</td>\n",
       "      <td>NaN</td>\n",
       "    </tr>\n",
       "    <tr>\n",
       "      <th>1</th>\n",
       "      <td>01-02-2010 06:40</td>\n",
       "      <td>HDB1666</td>\n",
       "      <td>Luke.Grant.Mcmahon@dtaa.com</td>\n",
       "      <td>Hector.Donovan.Bray@dtaa.com</td>\n",
       "      <td>NaN</td>\n",
       "    </tr>\n",
       "    <tr>\n",
       "      <th>2</th>\n",
       "      <td>01-02-2010 06:42</td>\n",
       "      <td>HDB1666</td>\n",
       "      <td>Hector.Donovan.Bray@dtaa.com</td>\n",
       "      <td>Quintessa.O.Farrell@harris.com</td>\n",
       "      <td>C:\\28X79b6\\0PAGXTJ8.doc(1119253);C:\\11b38g6\\5M...</td>\n",
       "    </tr>\n",
       "    <tr>\n",
       "      <th>3</th>\n",
       "      <td>01-02-2010 06:45</td>\n",
       "      <td>HDB1666</td>\n",
       "      <td>Travis.Ezra.Warner@dtaa.com</td>\n",
       "      <td>Hector.Donovan.Bray@dtaa.com</td>\n",
       "      <td>NaN</td>\n",
       "    </tr>\n",
       "    <tr>\n",
       "      <th>4</th>\n",
       "      <td>01-02-2010 06:47</td>\n",
       "      <td>HDB1666</td>\n",
       "      <td>Kenyon.William.Delacruz@dtaa.com</td>\n",
       "      <td>Hector.Donovan.Bray@dtaa.com</td>\n",
       "      <td>NaN</td>\n",
       "    </tr>\n",
       "    <tr>\n",
       "      <th>...</th>\n",
       "      <td>...</td>\n",
       "      <td>...</td>\n",
       "      <td>...</td>\n",
       "      <td>...</td>\n",
       "      <td>...</td>\n",
       "    </tr>\n",
       "    <tr>\n",
       "      <th>995</th>\n",
       "      <td>01-02-2010 12:51</td>\n",
       "      <td>LAN1329</td>\n",
       "      <td>Jordan.Hannah.Booker@dtaa.com</td>\n",
       "      <td>Lael.Aurora.Nash@dtaa.com</td>\n",
       "      <td>NaN</td>\n",
       "    </tr>\n",
       "    <tr>\n",
       "      <th>996</th>\n",
       "      <td>01-02-2010 12:51</td>\n",
       "      <td>GAH0525</td>\n",
       "      <td>Dillon.Josiah.Roy@dtaa.com</td>\n",
       "      <td>Glenna.Althea.Hood@dtaa.com</td>\n",
       "      <td>NaN</td>\n",
       "    </tr>\n",
       "    <tr>\n",
       "      <th>997</th>\n",
       "      <td>01-02-2010 12:51</td>\n",
       "      <td>LQW1314</td>\n",
       "      <td>Lavinia.Quincy.Weaver@dtaa.com</td>\n",
       "      <td>Astra.Brittany.Kaufman@dtaa.com</td>\n",
       "      <td>NaN</td>\n",
       "    </tr>\n",
       "    <tr>\n",
       "      <th>998</th>\n",
       "      <td>01-02-2010 12:51</td>\n",
       "      <td>SKE3262</td>\n",
       "      <td>Salvador.Kennan.English@dtaa.com</td>\n",
       "      <td>Quincy.Guy.Shannon@dtaa.com</td>\n",
       "      <td>NaN</td>\n",
       "    </tr>\n",
       "    <tr>\n",
       "      <th>999</th>\n",
       "      <td>01-02-2010 12:51</td>\n",
       "      <td>IPK2575</td>\n",
       "      <td>Isaac.Phelan.Kent@dtaa.com</td>\n",
       "      <td>Vincent.Lamar.Massey@dtaa.com</td>\n",
       "      <td>NaN</td>\n",
       "    </tr>\n",
       "  </tbody>\n",
       "</table>\n",
       "<p>1000 rows × 5 columns</p>\n",
       "</div>"
      ],
      "text/plain": [
       "                 date     user                              from  \\\n",
       "0    01-02-2010 06:36  HDB1666      Hector.Donovan.Bray@dtaa.com   \n",
       "1    01-02-2010 06:40  HDB1666       Luke.Grant.Mcmahon@dtaa.com   \n",
       "2    01-02-2010 06:42  HDB1666      Hector.Donovan.Bray@dtaa.com   \n",
       "3    01-02-2010 06:45  HDB1666       Travis.Ezra.Warner@dtaa.com   \n",
       "4    01-02-2010 06:47  HDB1666  Kenyon.William.Delacruz@dtaa.com   \n",
       "..                ...      ...                               ...   \n",
       "995  01-02-2010 12:51  LAN1329     Jordan.Hannah.Booker@dtaa.com   \n",
       "996  01-02-2010 12:51  GAH0525        Dillon.Josiah.Roy@dtaa.com   \n",
       "997  01-02-2010 12:51  LQW1314    Lavinia.Quincy.Weaver@dtaa.com   \n",
       "998  01-02-2010 12:51  SKE3262  Salvador.Kennan.English@dtaa.com   \n",
       "999  01-02-2010 12:51  IPK2575        Isaac.Phelan.Kent@dtaa.com   \n",
       "\n",
       "                                  to  \\\n",
       "0       Louis.Bernard.Garza@dtaa.com   \n",
       "1       Hector.Donovan.Bray@dtaa.com   \n",
       "2     Quintessa.O.Farrell@harris.com   \n",
       "3       Hector.Donovan.Bray@dtaa.com   \n",
       "4       Hector.Donovan.Bray@dtaa.com   \n",
       "..                               ...   \n",
       "995        Lael.Aurora.Nash@dtaa.com   \n",
       "996      Glenna.Althea.Hood@dtaa.com   \n",
       "997  Astra.Brittany.Kaufman@dtaa.com   \n",
       "998      Quincy.Guy.Shannon@dtaa.com   \n",
       "999    Vincent.Lamar.Massey@dtaa.com   \n",
       "\n",
       "                                            attachment  \n",
       "0                                                  NaN  \n",
       "1                                                  NaN  \n",
       "2    C:\\28X79b6\\0PAGXTJ8.doc(1119253);C:\\11b38g6\\5M...  \n",
       "3                                                  NaN  \n",
       "4                                                  NaN  \n",
       "..                                                 ...  \n",
       "995                                                NaN  \n",
       "996                                                NaN  \n",
       "997                                                NaN  \n",
       "998                                                NaN  \n",
       "999                                                NaN  \n",
       "\n",
       "[1000 rows x 5 columns]"
      ]
     },
     "execution_count": 68,
     "metadata": {},
     "output_type": "execute_result"
    }
   ],
   "source": [
    "email_data"
   ]
  },
  {
   "cell_type": "code",
   "execution_count": 75,
   "id": "8442b680-7265-48c5-b6a1-57cb1df0d6cf",
   "metadata": {},
   "outputs": [
    {
     "data": {
      "text/html": [
       "<div>\n",
       "<style scoped>\n",
       "    .dataframe tbody tr th:only-of-type {\n",
       "        vertical-align: middle;\n",
       "    }\n",
       "\n",
       "    .dataframe tbody tr th {\n",
       "        vertical-align: top;\n",
       "    }\n",
       "\n",
       "    .dataframe thead th {\n",
       "        text-align: right;\n",
       "    }\n",
       "</style>\n",
       "<table border=\"1\" class=\"dataframe\">\n",
       "  <thead>\n",
       "    <tr style=\"text-align: right;\">\n",
       "      <th></th>\n",
       "      <th>date</th>\n",
       "      <th>user</th>\n",
       "      <th>from</th>\n",
       "      <th>to</th>\n",
       "      <th>attachment</th>\n",
       "    </tr>\n",
       "  </thead>\n",
       "  <tbody>\n",
       "    <tr>\n",
       "      <th>6</th>\n",
       "      <td>01-02-2010 06:50</td>\n",
       "      <td>HDB1666</td>\n",
       "      <td>Molina.Curran@northropgrumman.com</td>\n",
       "      <td>Hector.Donovan.Bray@dtaa.com</td>\n",
       "      <td>NaN</td>\n",
       "    </tr>\n",
       "    <tr>\n",
       "      <th>8</th>\n",
       "      <td>01-02-2010 06:54</td>\n",
       "      <td>LIM1718</td>\n",
       "      <td>Maryam_Mosley@northropgrumman.com</td>\n",
       "      <td>Lisandra.Inez.Myers@dtaa.com</td>\n",
       "      <td>NaN</td>\n",
       "    </tr>\n",
       "    <tr>\n",
       "      <th>11</th>\n",
       "      <td>01-02-2010 06:59</td>\n",
       "      <td>HDB1666</td>\n",
       "      <td>Jamalia_Jacobson@lockheedmartin.com</td>\n",
       "      <td>Hector.Donovan.Bray@dtaa.com</td>\n",
       "      <td>NaN</td>\n",
       "    </tr>\n",
       "    <tr>\n",
       "      <th>15</th>\n",
       "      <td>01-02-2010 07:03</td>\n",
       "      <td>LIM1718</td>\n",
       "      <td>GJH8633@hp.com</td>\n",
       "      <td>Lisandra.Inez.Myers@dtaa.com</td>\n",
       "      <td>NaN</td>\n",
       "    </tr>\n",
       "    <tr>\n",
       "      <th>20</th>\n",
       "      <td>01-02-2010 07:10</td>\n",
       "      <td>ATH0225</td>\n",
       "      <td>ADW6237@harris.com</td>\n",
       "      <td>Andrew.Tobias.Hoover@dtaa.com</td>\n",
       "      <td>NaN</td>\n",
       "    </tr>\n",
       "    <tr>\n",
       "      <th>...</th>\n",
       "      <td>...</td>\n",
       "      <td>...</td>\n",
       "      <td>...</td>\n",
       "      <td>...</td>\n",
       "      <td>...</td>\n",
       "    </tr>\n",
       "    <tr>\n",
       "      <th>984</th>\n",
       "      <td>01-02-2010 12:47</td>\n",
       "      <td>LQW1314</td>\n",
       "      <td>Phyllis.H.Barron@harris.com</td>\n",
       "      <td>Lavinia.Quincy.Weaver@dtaa.com</td>\n",
       "      <td>NaN</td>\n",
       "    </tr>\n",
       "    <tr>\n",
       "      <th>986</th>\n",
       "      <td>01-02-2010 12:48</td>\n",
       "      <td>JJS2973</td>\n",
       "      <td>DAV9@lockheedmartin.com</td>\n",
       "      <td>Jessamine.Jena.Stuart@dtaa.com</td>\n",
       "      <td>NaN</td>\n",
       "    </tr>\n",
       "    <tr>\n",
       "      <th>991</th>\n",
       "      <td>01-02-2010 12:49</td>\n",
       "      <td>SRS0129</td>\n",
       "      <td>LCM337@lockheedmartin.com</td>\n",
       "      <td>Samuel.Ronan.Shaw@dtaa.com</td>\n",
       "      <td>NaN</td>\n",
       "    </tr>\n",
       "    <tr>\n",
       "      <th>992</th>\n",
       "      <td>01-02-2010 12:49</td>\n",
       "      <td>GAH0525</td>\n",
       "      <td>Scarlett_Mccullough@lockheedmartin.com</td>\n",
       "      <td>Glenna.Althea.Hood@dtaa.com</td>\n",
       "      <td>NaN</td>\n",
       "    </tr>\n",
       "    <tr>\n",
       "      <th>994</th>\n",
       "      <td>01-02-2010 12:50</td>\n",
       "      <td>SRS0129</td>\n",
       "      <td>Hill-Plato@lockheedmartin.com</td>\n",
       "      <td>Samuel.Ronan.Shaw@dtaa.com</td>\n",
       "      <td>NaN</td>\n",
       "    </tr>\n",
       "  </tbody>\n",
       "</table>\n",
       "<p>293 rows × 5 columns</p>\n",
       "</div>"
      ],
      "text/plain": [
       "                 date     user                                    from  \\\n",
       "6    01-02-2010 06:50  HDB1666       Molina.Curran@northropgrumman.com   \n",
       "8    01-02-2010 06:54  LIM1718       Maryam_Mosley@northropgrumman.com   \n",
       "11   01-02-2010 06:59  HDB1666     Jamalia_Jacobson@lockheedmartin.com   \n",
       "15   01-02-2010 07:03  LIM1718                          GJH8633@hp.com   \n",
       "20   01-02-2010 07:10  ATH0225                      ADW6237@harris.com   \n",
       "..                ...      ...                                     ...   \n",
       "984  01-02-2010 12:47  LQW1314             Phyllis.H.Barron@harris.com   \n",
       "986  01-02-2010 12:48  JJS2973                 DAV9@lockheedmartin.com   \n",
       "991  01-02-2010 12:49  SRS0129               LCM337@lockheedmartin.com   \n",
       "992  01-02-2010 12:49  GAH0525  Scarlett_Mccullough@lockheedmartin.com   \n",
       "994  01-02-2010 12:50  SRS0129           Hill-Plato@lockheedmartin.com   \n",
       "\n",
       "                                 to attachment  \n",
       "6      Hector.Donovan.Bray@dtaa.com        NaN  \n",
       "8      Lisandra.Inez.Myers@dtaa.com        NaN  \n",
       "11     Hector.Donovan.Bray@dtaa.com        NaN  \n",
       "15     Lisandra.Inez.Myers@dtaa.com        NaN  \n",
       "20    Andrew.Tobias.Hoover@dtaa.com        NaN  \n",
       "..                              ...        ...  \n",
       "984  Lavinia.Quincy.Weaver@dtaa.com        NaN  \n",
       "986  Jessamine.Jena.Stuart@dtaa.com        NaN  \n",
       "991      Samuel.Ronan.Shaw@dtaa.com        NaN  \n",
       "992     Glenna.Althea.Hood@dtaa.com        NaN  \n",
       "994      Samuel.Ronan.Shaw@dtaa.com        NaN  \n",
       "\n",
       "[293 rows x 5 columns]"
      ]
     },
     "execution_count": 75,
     "metadata": {},
     "output_type": "execute_result"
    }
   ],
   "source": [
    "email_data[(email_data['from'].str.split('@').str[1] != 'dtaa.com') & (email_data['to'].str.split('@').str[1] == 'dtaa.com')]"
   ]
  },
  {
   "cell_type": "code",
   "execution_count": 79,
   "id": "875a7acc-3cbc-46c4-a605-4a9b836d47e7",
   "metadata": {},
   "outputs": [],
   "source": [
    "email_data['to_outside'] = (email_data['from'].str.split('@').str[1] == 'dtaa.com') & (email_data['to'].str.split('@').str[1] != 'dtaa.com')"
   ]
  },
  {
   "cell_type": "code",
   "execution_count": 80,
   "id": "ceba432f-cc7d-43e0-954f-d02ee2595271",
   "metadata": {},
   "outputs": [
    {
     "name": "stdout",
     "output_type": "stream",
     "text": [
      "<class 'pandas.core.frame.DataFrame'>\n",
      "RangeIndex: 1000 entries, 0 to 999\n",
      "Data columns (total 7 columns):\n",
      " #   Column      Non-Null Count  Dtype \n",
      "---  ------      --------------  ----- \n",
      " 0   date        1000 non-null   object\n",
      " 1   user        1000 non-null   object\n",
      " 2   from        1000 non-null   object\n",
      " 3   to          1000 non-null   object\n",
      " 4   attachment  111 non-null    object\n",
      " 5   to_inside   1000 non-null   bool  \n",
      " 6   to_outside  1000 non-null   bool  \n",
      "dtypes: bool(2), object(5)\n",
      "memory usage: 41.1+ KB\n"
     ]
    }
   ],
   "source": [
    "email_data.info()"
   ]
  },
  {
   "cell_type": "code",
   "execution_count": 83,
   "id": "09272c12-00b4-4245-a550-6079b7eb916a",
   "metadata": {},
   "outputs": [],
   "source": [
    "email_data = email_data.drop(['from', 'to'], axis=1)"
   ]
  },
  {
   "cell_type": "code",
   "execution_count": 88,
   "id": "ec5baa13-9908-40a2-9031-591ab45fab71",
   "metadata": {},
   "outputs": [],
   "source": [
    "email_data['attachment'] = email_data['attachment'].fillna(0)"
   ]
  },
  {
   "cell_type": "code",
   "execution_count": 89,
   "id": "793a37b3-cbfb-42d2-9f8c-cc867df16f25",
   "metadata": {},
   "outputs": [],
   "source": [
    "email_data['has_attachment'] = email_data['attachment'].apply(lambda x: 1 if x else 0)"
   ]
  },
  {
   "cell_type": "code",
   "execution_count": 91,
   "id": "ac14b938-a4c9-485e-b019-2df2342dac9f",
   "metadata": {},
   "outputs": [],
   "source": [
    "email_data = email_data.drop(['attachment'], axis=1)"
   ]
  },
  {
   "cell_type": "code",
   "execution_count": 92,
   "id": "309a655f-6e4e-4766-81d8-2a8b02b8202d",
   "metadata": {},
   "outputs": [
    {
     "data": {
      "text/html": [
       "<div>\n",
       "<style scoped>\n",
       "    .dataframe tbody tr th:only-of-type {\n",
       "        vertical-align: middle;\n",
       "    }\n",
       "\n",
       "    .dataframe tbody tr th {\n",
       "        vertical-align: top;\n",
       "    }\n",
       "\n",
       "    .dataframe thead th {\n",
       "        text-align: right;\n",
       "    }\n",
       "</style>\n",
       "<table border=\"1\" class=\"dataframe\">\n",
       "  <thead>\n",
       "    <tr style=\"text-align: right;\">\n",
       "      <th></th>\n",
       "      <th>date</th>\n",
       "      <th>user</th>\n",
       "      <th>to_inside</th>\n",
       "      <th>to_outside</th>\n",
       "      <th>has_attachment</th>\n",
       "    </tr>\n",
       "  </thead>\n",
       "  <tbody>\n",
       "    <tr>\n",
       "      <th>0</th>\n",
       "      <td>01-02-2010 06:36</td>\n",
       "      <td>HDB1666</td>\n",
       "      <td>False</td>\n",
       "      <td>False</td>\n",
       "      <td>0</td>\n",
       "    </tr>\n",
       "    <tr>\n",
       "      <th>1</th>\n",
       "      <td>01-02-2010 06:40</td>\n",
       "      <td>HDB1666</td>\n",
       "      <td>False</td>\n",
       "      <td>False</td>\n",
       "      <td>0</td>\n",
       "    </tr>\n",
       "    <tr>\n",
       "      <th>2</th>\n",
       "      <td>01-02-2010 06:42</td>\n",
       "      <td>HDB1666</td>\n",
       "      <td>False</td>\n",
       "      <td>True</td>\n",
       "      <td>1</td>\n",
       "    </tr>\n",
       "    <tr>\n",
       "      <th>3</th>\n",
       "      <td>01-02-2010 06:45</td>\n",
       "      <td>HDB1666</td>\n",
       "      <td>False</td>\n",
       "      <td>False</td>\n",
       "      <td>0</td>\n",
       "    </tr>\n",
       "    <tr>\n",
       "      <th>4</th>\n",
       "      <td>01-02-2010 06:47</td>\n",
       "      <td>HDB1666</td>\n",
       "      <td>False</td>\n",
       "      <td>False</td>\n",
       "      <td>0</td>\n",
       "    </tr>\n",
       "    <tr>\n",
       "      <th>...</th>\n",
       "      <td>...</td>\n",
       "      <td>...</td>\n",
       "      <td>...</td>\n",
       "      <td>...</td>\n",
       "      <td>...</td>\n",
       "    </tr>\n",
       "    <tr>\n",
       "      <th>995</th>\n",
       "      <td>01-02-2010 12:51</td>\n",
       "      <td>LAN1329</td>\n",
       "      <td>False</td>\n",
       "      <td>False</td>\n",
       "      <td>0</td>\n",
       "    </tr>\n",
       "    <tr>\n",
       "      <th>996</th>\n",
       "      <td>01-02-2010 12:51</td>\n",
       "      <td>GAH0525</td>\n",
       "      <td>False</td>\n",
       "      <td>False</td>\n",
       "      <td>0</td>\n",
       "    </tr>\n",
       "    <tr>\n",
       "      <th>997</th>\n",
       "      <td>01-02-2010 12:51</td>\n",
       "      <td>LQW1314</td>\n",
       "      <td>False</td>\n",
       "      <td>False</td>\n",
       "      <td>0</td>\n",
       "    </tr>\n",
       "    <tr>\n",
       "      <th>998</th>\n",
       "      <td>01-02-2010 12:51</td>\n",
       "      <td>SKE3262</td>\n",
       "      <td>False</td>\n",
       "      <td>False</td>\n",
       "      <td>0</td>\n",
       "    </tr>\n",
       "    <tr>\n",
       "      <th>999</th>\n",
       "      <td>01-02-2010 12:51</td>\n",
       "      <td>IPK2575</td>\n",
       "      <td>False</td>\n",
       "      <td>False</td>\n",
       "      <td>0</td>\n",
       "    </tr>\n",
       "  </tbody>\n",
       "</table>\n",
       "<p>1000 rows × 5 columns</p>\n",
       "</div>"
      ],
      "text/plain": [
       "                 date     user  to_inside  to_outside  has_attachment\n",
       "0    01-02-2010 06:36  HDB1666      False       False               0\n",
       "1    01-02-2010 06:40  HDB1666      False       False               0\n",
       "2    01-02-2010 06:42  HDB1666      False        True               1\n",
       "3    01-02-2010 06:45  HDB1666      False       False               0\n",
       "4    01-02-2010 06:47  HDB1666      False       False               0\n",
       "..                ...      ...        ...         ...             ...\n",
       "995  01-02-2010 12:51  LAN1329      False       False               0\n",
       "996  01-02-2010 12:51  GAH0525      False       False               0\n",
       "997  01-02-2010 12:51  LQW1314      False       False               0\n",
       "998  01-02-2010 12:51  SKE3262      False       False               0\n",
       "999  01-02-2010 12:51  IPK2575      False       False               0\n",
       "\n",
       "[1000 rows x 5 columns]"
      ]
     },
     "execution_count": 92,
     "metadata": {},
     "output_type": "execute_result"
    }
   ],
   "source": [
    "email_data"
   ]
  },
  {
   "cell_type": "code",
   "execution_count": 103,
   "id": "86238cad-ec70-4c54-b1fa-533e8fb200d5",
   "metadata": {},
   "outputs": [
    {
     "name": "stdout",
     "output_type": "stream",
     "text": [
      "<class 'pandas.core.frame.DataFrame'>\n",
      "RangeIndex: 1000 entries, 0 to 999\n",
      "Data columns (total 5 columns):\n",
      " #   Column          Non-Null Count  Dtype         \n",
      "---  ------          --------------  -----         \n",
      " 0   date            1000 non-null   datetime64[ns]\n",
      " 1   user            1000 non-null   object        \n",
      " 2   to_inside       1000 non-null   int8          \n",
      " 3   to_outside      1000 non-null   int8          \n",
      " 4   has_attachment  1000 non-null   int8          \n",
      "dtypes: datetime64[ns](1), int8(3), object(1)\n",
      "memory usage: 18.7+ KB\n"
     ]
    }
   ],
   "source": [
    "email_data.info()"
   ]
  },
  {
   "cell_type": "code",
   "execution_count": 95,
   "id": "dccba523-9bdc-4d4d-814d-d62de35abec6",
   "metadata": {},
   "outputs": [],
   "source": [
    "email_data['has_attachment'] = email_data['has_attachment'].astype('int8')"
   ]
  },
  {
   "cell_type": "code",
   "execution_count": 101,
   "id": "09128568-934b-4e4e-8278-25966ba848d5",
   "metadata": {},
   "outputs": [
    {
     "data": {
      "text/html": [
       "<div>\n",
       "<style scoped>\n",
       "    .dataframe tbody tr th:only-of-type {\n",
       "        vertical-align: middle;\n",
       "    }\n",
       "\n",
       "    .dataframe tbody tr th {\n",
       "        vertical-align: top;\n",
       "    }\n",
       "\n",
       "    .dataframe thead th {\n",
       "        text-align: right;\n",
       "    }\n",
       "</style>\n",
       "<table border=\"1\" class=\"dataframe\">\n",
       "  <thead>\n",
       "    <tr style=\"text-align: right;\">\n",
       "      <th></th>\n",
       "      <th>date</th>\n",
       "      <th>user</th>\n",
       "      <th>to_inside</th>\n",
       "      <th>to_outside</th>\n",
       "      <th>has_attachment</th>\n",
       "    </tr>\n",
       "  </thead>\n",
       "  <tbody>\n",
       "    <tr>\n",
       "      <th>0</th>\n",
       "      <td>01-02-2010 06:36</td>\n",
       "      <td>HDB1666</td>\n",
       "      <td>0</td>\n",
       "      <td>0</td>\n",
       "      <td>0</td>\n",
       "    </tr>\n",
       "    <tr>\n",
       "      <th>1</th>\n",
       "      <td>01-02-2010 06:40</td>\n",
       "      <td>HDB1666</td>\n",
       "      <td>0</td>\n",
       "      <td>0</td>\n",
       "      <td>0</td>\n",
       "    </tr>\n",
       "    <tr>\n",
       "      <th>2</th>\n",
       "      <td>01-02-2010 06:42</td>\n",
       "      <td>HDB1666</td>\n",
       "      <td>0</td>\n",
       "      <td>1</td>\n",
       "      <td>1</td>\n",
       "    </tr>\n",
       "    <tr>\n",
       "      <th>3</th>\n",
       "      <td>01-02-2010 06:45</td>\n",
       "      <td>HDB1666</td>\n",
       "      <td>0</td>\n",
       "      <td>0</td>\n",
       "      <td>0</td>\n",
       "    </tr>\n",
       "    <tr>\n",
       "      <th>4</th>\n",
       "      <td>01-02-2010 06:47</td>\n",
       "      <td>HDB1666</td>\n",
       "      <td>0</td>\n",
       "      <td>0</td>\n",
       "      <td>0</td>\n",
       "    </tr>\n",
       "    <tr>\n",
       "      <th>...</th>\n",
       "      <td>...</td>\n",
       "      <td>...</td>\n",
       "      <td>...</td>\n",
       "      <td>...</td>\n",
       "      <td>...</td>\n",
       "    </tr>\n",
       "    <tr>\n",
       "      <th>995</th>\n",
       "      <td>01-02-2010 12:51</td>\n",
       "      <td>LAN1329</td>\n",
       "      <td>0</td>\n",
       "      <td>0</td>\n",
       "      <td>0</td>\n",
       "    </tr>\n",
       "    <tr>\n",
       "      <th>996</th>\n",
       "      <td>01-02-2010 12:51</td>\n",
       "      <td>GAH0525</td>\n",
       "      <td>0</td>\n",
       "      <td>0</td>\n",
       "      <td>0</td>\n",
       "    </tr>\n",
       "    <tr>\n",
       "      <th>997</th>\n",
       "      <td>01-02-2010 12:51</td>\n",
       "      <td>LQW1314</td>\n",
       "      <td>0</td>\n",
       "      <td>0</td>\n",
       "      <td>0</td>\n",
       "    </tr>\n",
       "    <tr>\n",
       "      <th>998</th>\n",
       "      <td>01-02-2010 12:51</td>\n",
       "      <td>SKE3262</td>\n",
       "      <td>0</td>\n",
       "      <td>0</td>\n",
       "      <td>0</td>\n",
       "    </tr>\n",
       "    <tr>\n",
       "      <th>999</th>\n",
       "      <td>01-02-2010 12:51</td>\n",
       "      <td>IPK2575</td>\n",
       "      <td>0</td>\n",
       "      <td>0</td>\n",
       "      <td>0</td>\n",
       "    </tr>\n",
       "  </tbody>\n",
       "</table>\n",
       "<p>1000 rows × 5 columns</p>\n",
       "</div>"
      ],
      "text/plain": [
       "                 date     user  to_inside  to_outside  has_attachment\n",
       "0    01-02-2010 06:36  HDB1666          0           0               0\n",
       "1    01-02-2010 06:40  HDB1666          0           0               0\n",
       "2    01-02-2010 06:42  HDB1666          0           1               1\n",
       "3    01-02-2010 06:45  HDB1666          0           0               0\n",
       "4    01-02-2010 06:47  HDB1666          0           0               0\n",
       "..                ...      ...        ...         ...             ...\n",
       "995  01-02-2010 12:51  LAN1329          0           0               0\n",
       "996  01-02-2010 12:51  GAH0525          0           0               0\n",
       "997  01-02-2010 12:51  LQW1314          0           0               0\n",
       "998  01-02-2010 12:51  SKE3262          0           0               0\n",
       "999  01-02-2010 12:51  IPK2575          0           0               0\n",
       "\n",
       "[1000 rows x 5 columns]"
      ]
     },
     "execution_count": 101,
     "metadata": {},
     "output_type": "execute_result"
    }
   ],
   "source": [
    "email_data"
   ]
  },
  {
   "cell_type": "code",
   "execution_count": 98,
   "id": "a40edd89-c59b-4cff-8c55-13437e7d448c",
   "metadata": {},
   "outputs": [],
   "source": [
    "email_data['to_outside'] = (email_data['to_outside'] == True).astype('int8')"
   ]
  },
  {
   "cell_type": "code",
   "execution_count": 100,
   "id": "2cc1e4ee-d484-4639-a31b-ba73a6043a95",
   "metadata": {},
   "outputs": [],
   "source": [
    "email_data['to_inside'] = (email_data['to_inside'] == True).astype('int8')"
   ]
  },
  {
   "cell_type": "code",
   "execution_count": 102,
   "id": "d1c3b5f1-6ee7-4eb5-b9cd-20fb60d2a81d",
   "metadata": {},
   "outputs": [],
   "source": [
    "DATEFORMAT = '%d-%m-%Y %H:%M'\n",
    "email_data['date'] = pd.to_datetime(email_data['date'], format=DATEFORMAT)"
   ]
  },
  {
   "cell_type": "code",
   "execution_count": 104,
   "id": "33e184fc-8fa5-48e5-ad33-6672bdb48551",
   "metadata": {},
   "outputs": [],
   "source": [
    "email_data.to_csv(\"./email_processed.csv\", index=False)"
   ]
  },
  {
   "cell_type": "markdown",
   "id": "001723b8-c72d-4307-8e60-1d2b0b4c0e1e",
   "metadata": {},
   "source": [
    "## MERGING ALL DATASETS EMAIL, DEVICE AND LOGON, FILE "
   ]
  },
  {
   "cell_type": "code",
   "execution_count": 105,
   "id": "ad44c509-c606-4691-9c57-e3d15920ae4a",
   "metadata": {},
   "outputs": [],
   "source": [
    "file_data = pd.read_csv(\"./file_processed.csv\")"
   ]
  },
  {
   "cell_type": "code",
   "execution_count": 117,
   "id": "60570e51-8351-4634-bf5d-27017efdc4d9",
   "metadata": {},
   "outputs": [],
   "source": [
    "file_data['date'] = pd.to_datetime(file_data['date'],format='%Y-%m-%d %H:%M:%S')"
   ]
  },
  {
   "cell_type": "code",
   "execution_count": 121,
   "id": "9d887585-f85c-498c-b65a-2c4912ad8431",
   "metadata": {},
   "outputs": [],
   "source": [
    "file_data['date'] = file_data['date'].dt.strftime(DATEFORMAT)"
   ]
  },
  {
   "cell_type": "code",
   "execution_count": 125,
   "id": "fe90d611-711f-4fdf-9cb0-99d6a4b40b36",
   "metadata": {},
   "outputs": [],
   "source": [
    "file_data['date'] = pd.to_datetime(file_data['date'],format=DATEFORMAT)"
   ]
  },
  {
   "cell_type": "code",
   "execution_count": 126,
   "id": "a455aa8b-1de9-4acf-abdf-4d99b94ab5c6",
   "metadata": {},
   "outputs": [
    {
     "name": "stdout",
     "output_type": "stream",
     "text": [
      "<class 'pandas.core.frame.DataFrame'>\n",
      "RangeIndex: 1000 entries, 0 to 999\n",
      "Data columns (total 5 columns):\n",
      " #   Column          Non-Null Count  Dtype         \n",
      "---  ------          --------------  -----         \n",
      " 0   date            1000 non-null   datetime64[ns]\n",
      " 1   user            1000 non-null   object        \n",
      " 2   to_inside       1000 non-null   int8          \n",
      " 3   to_outside      1000 non-null   int8          \n",
      " 4   has_attachment  1000 non-null   int8          \n",
      "dtypes: datetime64[ns](1), int8(3), object(1)\n",
      "memory usage: 18.7+ KB\n"
     ]
    }
   ],
   "source": [
    "email_data.info()"
   ]
  },
  {
   "cell_type": "code",
   "execution_count": 127,
   "id": "64781435-6e60-4ee4-841d-95fed2539866",
   "metadata": {},
   "outputs": [
    {
     "name": "stdout",
     "output_type": "stream",
     "text": [
      "<class 'pandas.core.frame.DataFrame'>\n",
      "RangeIndex: 1000 entries, 0 to 999\n",
      "Data columns (total 5 columns):\n",
      " #   Column                Non-Null Count  Dtype         \n",
      "---  ------                --------------  -----         \n",
      " 0   date                  1000 non-null   datetime64[ns]\n",
      " 1   user                  1000 non-null   object        \n",
      " 2   from_removable_media  1000 non-null   int64         \n",
      " 3   is_exe                1000 non-null   int64         \n",
      " 4   not_exe               1000 non-null   int64         \n",
      "dtypes: datetime64[ns](1), int64(3), object(1)\n",
      "memory usage: 39.2+ KB\n"
     ]
    }
   ],
   "source": [
    "file_data.info()"
   ]
  },
  {
   "cell_type": "code",
   "execution_count": 128,
   "id": "365da5dc-7f64-4db6-b34b-cd3ecaed39ce",
   "metadata": {},
   "outputs": [],
   "source": [
    "files_email_merged = pd.concat([file_data, email_data])"
   ]
  },
  {
   "cell_type": "code",
   "execution_count": 129,
   "id": "97393b29-b46f-492b-965e-25a7577fccda",
   "metadata": {},
   "outputs": [],
   "source": [
    "files_email_merged.sort_values(by='date', inplace=True)"
   ]
  },
  {
   "cell_type": "code",
   "execution_count": 143,
   "id": "f5b711d4-7ad3-4cec-83b9-c97e63bd591b",
   "metadata": {},
   "outputs": [
    {
     "name": "stdout",
     "output_type": "stream",
     "text": [
      "<class 'pandas.core.frame.DataFrame'>\n",
      "Index: 2000 entries, 0 to 999\n",
      "Data columns (total 8 columns):\n",
      " #   Column                Non-Null Count  Dtype         \n",
      "---  ------                --------------  -----         \n",
      " 0   date                  2000 non-null   datetime64[ns]\n",
      " 1   user                  2000 non-null   object        \n",
      " 2   from_removable_media  2000 non-null   int8          \n",
      " 3   is_exe                2000 non-null   int8          \n",
      " 4   not_exe               2000 non-null   int8          \n",
      " 5   to_inside             2000 non-null   int8          \n",
      " 6   to_outside            2000 non-null   int8          \n",
      " 7   has_attachment        2000 non-null   int8          \n",
      "dtypes: datetime64[ns](1), int8(6), object(1)\n",
      "memory usage: 58.6+ KB\n",
      "None\n"
     ]
    }
   ],
   "source": [
    "print(files_email_merged.info())"
   ]
  },
  {
   "cell_type": "code",
   "execution_count": 132,
   "id": "df2c04be-bbc5-4451-85db-290b7f5918be",
   "metadata": {},
   "outputs": [],
   "source": [
    "files_email_merged['from_removable_media'] = files_email_merged['from_removable_media'].fillna(0).astype('int8') # BY DEAFULT IAM TAKING IT AS NOT INSERTED FROM PENDRIVE OR ANYTHING"
   ]
  },
  {
   "cell_type": "code",
   "execution_count": 135,
   "id": "81615330-40e8-4343-baba-c96ad8f0a987",
   "metadata": {},
   "outputs": [],
   "source": [
    "files_email_merged['is_exe'] = files_email_merged['is_exe'].fillna(0).astype('int8') # BY DEFAULT ITS NOT EXE"
   ]
  },
  {
   "cell_type": "code",
   "execution_count": 137,
   "id": "8bafc13f-8e20-4ee5-9920-9281cbcb576c",
   "metadata": {},
   "outputs": [],
   "source": [
    "files_email_merged['not_exe'] = files_email_merged['not_exe'].fillna(1).astype('int8') # BY DEFAULTS ITS OTHER FILES "
   ]
  },
  {
   "cell_type": "code",
   "execution_count": 139,
   "id": "4d710cd0-f44b-43dc-abad-403076415851",
   "metadata": {},
   "outputs": [],
   "source": [
    "files_email_merged['to_inside'] = files_email_merged['to_inside'].fillna(0).astype('int8') # BY DEFAULT NOT COMING INSIDE"
   ]
  },
  {
   "cell_type": "code",
   "execution_count": 140,
   "id": "dd56a05b-e399-4b9d-a562-b7d583ed9126",
   "metadata": {},
   "outputs": [],
   "source": [
    "files_email_merged['to_outside'] = files_email_merged['to_outside'].fillna(0).astype('int8') # BY DEFAULT NOT GOING INSIDE"
   ]
  },
  {
   "cell_type": "code",
   "execution_count": 142,
   "id": "9099821b-a31c-4297-9439-d0831321dc50",
   "metadata": {},
   "outputs": [],
   "source": [
    "files_email_merged['has_attachment'] = files_email_merged['has_attachment'].fillna(0).astype('int8') # BY DEFAULT HAS NO ATTACHMENTS"
   ]
  },
  {
   "cell_type": "code",
   "execution_count": 144,
   "id": "1d31ec77-7f63-44d9-9f68-268b5cacbbdd",
   "metadata": {},
   "outputs": [],
   "source": [
    "files_email_merged.to_csv(\"./files_email_merged.csv\", index=False)"
   ]
  },
  {
   "cell_type": "code",
   "execution_count": 1,
   "id": "41bd0316-5832-4714-89e4-f86e34dcd7ce",
   "metadata": {},
   "outputs": [],
   "source": [
    "\n",
    "import pandas as pd\n"
   ]
  },
  {
   "cell_type": "code",
   "execution_count": 2,
   "id": "044b69c0-5818-4fb3-9907-696789bf8e64",
   "metadata": {},
   "outputs": [],
   "source": [
    "logdev_data = pd.read_csv(\"./merged_logon_device.csv\")"
   ]
  },
  {
   "cell_type": "code",
   "execution_count": 3,
   "id": "01323c28-2c04-4efb-a690-d627707fda4e",
   "metadata": {},
   "outputs": [],
   "source": [
    "file_mail_data = pd.read_csv(\"./files_email_merged.csv\")"
   ]
  },
  {
   "cell_type": "code",
   "execution_count": 5,
   "id": "e9b089b7-5775-4a56-b278-50f96ecbc5f1",
   "metadata": {},
   "outputs": [
    {
     "data": {
      "text/html": [
       "<div>\n",
       "<style scoped>\n",
       "    .dataframe tbody tr th:only-of-type {\n",
       "        vertical-align: middle;\n",
       "    }\n",
       "\n",
       "    .dataframe tbody tr th {\n",
       "        vertical-align: top;\n",
       "    }\n",
       "\n",
       "    .dataframe thead th {\n",
       "        text-align: right;\n",
       "    }\n",
       "</style>\n",
       "<table border=\"1\" class=\"dataframe\">\n",
       "  <thead>\n",
       "    <tr style=\"text-align: right;\">\n",
       "      <th></th>\n",
       "      <th>date</th>\n",
       "      <th>user</th>\n",
       "      <th>logon</th>\n",
       "      <th>logoff</th>\n",
       "      <th>connect</th>\n",
       "      <th>disconnect</th>\n",
       "    </tr>\n",
       "  </thead>\n",
       "  <tbody>\n",
       "    <tr>\n",
       "      <th>0</th>\n",
       "      <td>2010-01-04 00:10:00</td>\n",
       "      <td>DTAA/KEE0997</td>\n",
       "      <td>0</td>\n",
       "      <td>1</td>\n",
       "      <td>0</td>\n",
       "      <td>1</td>\n",
       "    </tr>\n",
       "    <tr>\n",
       "      <th>1</th>\n",
       "      <td>2010-01-04 00:52:00</td>\n",
       "      <td>DTAA/KEE0997</td>\n",
       "      <td>1</td>\n",
       "      <td>0</td>\n",
       "      <td>0</td>\n",
       "      <td>1</td>\n",
       "    </tr>\n",
       "    <tr>\n",
       "      <th>2</th>\n",
       "      <td>2010-01-04 01:17:00</td>\n",
       "      <td>DTAA/KEE0997</td>\n",
       "      <td>0</td>\n",
       "      <td>1</td>\n",
       "      <td>0</td>\n",
       "      <td>1</td>\n",
       "    </tr>\n",
       "    <tr>\n",
       "      <th>3</th>\n",
       "      <td>2010-01-04 01:28:00</td>\n",
       "      <td>DTAA/KEE0997</td>\n",
       "      <td>1</td>\n",
       "      <td>0</td>\n",
       "      <td>0</td>\n",
       "      <td>1</td>\n",
       "    </tr>\n",
       "    <tr>\n",
       "      <th>4</th>\n",
       "      <td>2010-01-04 01:57:00</td>\n",
       "      <td>DTAA/BJM0992</td>\n",
       "      <td>0</td>\n",
       "      <td>1</td>\n",
       "      <td>0</td>\n",
       "      <td>1</td>\n",
       "    </tr>\n",
       "  </tbody>\n",
       "</table>\n",
       "</div>"
      ],
      "text/plain": [
       "                  date          user  logon  logoff  connect  disconnect\n",
       "0  2010-01-04 00:10:00  DTAA/KEE0997      0       1        0           1\n",
       "1  2010-01-04 00:52:00  DTAA/KEE0997      1       0        0           1\n",
       "2  2010-01-04 01:17:00  DTAA/KEE0997      0       1        0           1\n",
       "3  2010-01-04 01:28:00  DTAA/KEE0997      1       0        0           1\n",
       "4  2010-01-04 01:57:00  DTAA/BJM0992      0       1        0           1"
      ]
     },
     "execution_count": 5,
     "metadata": {},
     "output_type": "execute_result"
    }
   ],
   "source": [
    "logdev_data.head()"
   ]
  },
  {
   "cell_type": "code",
   "execution_count": 6,
   "id": "97103890-47b1-4725-9380-d2930419a46c",
   "metadata": {},
   "outputs": [],
   "source": [
    "logdev_data['date'] = pd.to_datetime(logdev_data['date'],format='%Y-%m-%d %H:%M:%S')"
   ]
  },
  {
   "cell_type": "code",
   "execution_count": 8,
   "id": "bffb348a-7ffc-4907-9546-ed8b9010d73c",
   "metadata": {},
   "outputs": [],
   "source": [
    "file_mail_data['date'] = pd.to_datetime(file_mail_data['date'], format='%Y-%m-%d %H:%M:%S')"
   ]
  },
  {
   "cell_type": "code",
   "execution_count": 9,
   "id": "70f3bf6b-237b-49cf-aba4-2143a0f3e762",
   "metadata": {},
   "outputs": [],
   "source": [
    "merged_2dataset = pd.concat([logdev_data, file_mail_data])"
   ]
  },
  {
   "cell_type": "code",
   "execution_count": 11,
   "id": "44fa99a8-9ccc-4b8f-adc5-ef1ae4addc84",
   "metadata": {
    "scrolled": true
   },
   "outputs": [],
   "source": [
    "merged_2dataset.sort_values(by='date', inplace=True)"
   ]
  },
  {
   "cell_type": "code",
   "execution_count": 13,
   "id": "3748cd8a-7d6c-459b-b433-601c8ca4842a",
   "metadata": {},
   "outputs": [
    {
     "name": "stdout",
     "output_type": "stream",
     "text": [
      "                     date          user  logon  logoff  connect  disconnect  \\\n",
      "0     2010-01-04 00:10:00  DTAA/KEE0997    0.0     1.0      0.0         1.0   \n",
      "1     2010-01-04 00:52:00  DTAA/KEE0997    1.0     0.0      0.0         1.0   \n",
      "2     2010-01-04 01:17:00  DTAA/KEE0997    0.0     1.0      0.0         1.0   \n",
      "3     2010-01-04 01:28:00  DTAA/KEE0997    1.0     0.0      0.0         1.0   \n",
      "4     2010-01-04 01:57:00  DTAA/BJM0992    0.0     1.0      0.0         1.0   \n",
      "...                   ...           ...    ...     ...      ...         ...   \n",
      "19995 2010-03-16 10:00:00  DTAA/RVS0852    0.0     1.0      1.0         0.0   \n",
      "19996 2010-03-16 10:03:00  DTAA/XQW0354    0.0     1.0      1.0         0.0   \n",
      "19997 2010-03-16 10:05:00  DTAA/VCG0663    0.0     1.0      1.0         0.0   \n",
      "19998 2010-03-16 10:10:00  DTAA/AJB0370    0.0     1.0      0.0         1.0   \n",
      "19999 2010-03-16 10:21:00  DTAA/CTH0856    0.0     1.0      1.0         0.0   \n",
      "\n",
      "       from_removable_media  is_exe  not_exe  to_inside  to_outside  \\\n",
      "0                       NaN     NaN      NaN        NaN         NaN   \n",
      "1                       NaN     NaN      NaN        NaN         NaN   \n",
      "2                       NaN     NaN      NaN        NaN         NaN   \n",
      "3                       NaN     NaN      NaN        NaN         NaN   \n",
      "4                       NaN     NaN      NaN        NaN         NaN   \n",
      "...                     ...     ...      ...        ...         ...   \n",
      "19995                   NaN     NaN      NaN        NaN         NaN   \n",
      "19996                   NaN     NaN      NaN        NaN         NaN   \n",
      "19997                   NaN     NaN      NaN        NaN         NaN   \n",
      "19998                   NaN     NaN      NaN        NaN         NaN   \n",
      "19999                   NaN     NaN      NaN        NaN         NaN   \n",
      "\n",
      "       has_attachment  \n",
      "0                 NaN  \n",
      "1                 NaN  \n",
      "2                 NaN  \n",
      "3                 NaN  \n",
      "4                 NaN  \n",
      "...               ...  \n",
      "19995             NaN  \n",
      "19996             NaN  \n",
      "19997             NaN  \n",
      "19998             NaN  \n",
      "19999             NaN  \n",
      "\n",
      "[22000 rows x 12 columns]\n"
     ]
    }
   ],
   "source": []
  },
  {
   "cell_type": "code",
   "execution_count": null,
   "id": "0ecad686-3e34-4e28-bc36-360848adf458",
   "metadata": {},
   "outputs": [],
   "source": []
  }
 ],
 "metadata": {
  "kernelspec": {
   "display_name": "Python 3 (ipykernel)",
   "language": "python",
   "name": "python3"
  },
  "language_info": {
   "codemirror_mode": {
    "name": "ipython",
    "version": 3
   },
   "file_extension": ".py",
   "mimetype": "text/x-python",
   "name": "python",
   "nbconvert_exporter": "python",
   "pygments_lexer": "ipython3",
   "version": "3.11.5"
  }
 },
 "nbformat": 4,
 "nbformat_minor": 5
}
