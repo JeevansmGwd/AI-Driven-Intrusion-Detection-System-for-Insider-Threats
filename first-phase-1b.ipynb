{
 "cells": [
  {
   "cell_type": "markdown",
   "id": "efd1068d-9123-418a-8b24-3ee2f97e981f",
   "metadata": {},
   "source": [
    "# IMPORTING"
   ]
  },
  {
   "cell_type": "code",
   "execution_count": 2,
   "id": "bdcd1c46-52cc-4343-91f6-db259560cc77",
   "metadata": {},
   "outputs": [],
   "source": [
    "from tensorflow.keras.layers import Input, Dense\n",
    "\n",
    "class AutoEncoder(Model):\n",
    "    def __init__(self, input_dim, encoding_dim):\n",
    "        super(AutoEncoder, self).__init__()\n",
    "        self.encoder = tf.keras.Sequential([\n",
    "            Input(shape=(input_dim,)),\n",
    "            Dense(encoding_dim, activation='relu')\n",
    "        ])\n",
    "        self.decoder = tf.keras.Sequential([\n",
    "            Input(shape=(encoding_dim,)),\n",
    "            Dense(input_dim, activation='sigmoid')\n",
    "        ])\n",
    "\n",
    "    def call(self, x):\n",
    "        encoded = self.encoder(x)\n",
    "        decoded = self.decoder(encoded)\n",
    "        return decoded"
   ]
  },
  {
   "cell_type": "code",
   "execution_count": 36,
   "id": "39eeca73-903d-4d4e-89a3-236b9a20d1c7",
   "metadata": {},
   "outputs": [],
   "source": [
    "import pandas as pd\n",
    "import numpy as np\n",
    "from sklearn.preprocessing import OneHotEncoder\n",
    "from tensorflow.keras.models import Model\n",
    "from tensorflow.keras.layers import Input, Dense, Conv1D, LSTM"
   ]
  },
  {
   "cell_type": "code",
   "execution_count": 37,
   "id": "1123a31a-1385-44cc-9651-65eaf5b652ad",
   "metadata": {},
   "outputs": [],
   "source": [
    "# Load datasets\n",
    "logon_df = pd.read_csv(\"../../autonomous-cybersecurity/datasets/r1/logon.csv\", nrows=10000)\n",
    "device_df = pd.read_csv('../../autonomous-cybersecurity/datasets/r1/device.csv', nrows=10000)\n",
    "http_df = pd.read_csv('../../autonomous-cybersecurity/datasets/r1/http.csv', nrows=10000)"
   ]
  },
  {
   "cell_type": "code",
   "execution_count": 38,
   "id": "ca43af3e-d59b-43a6-809e-19b242adb7d1",
   "metadata": {},
   "outputs": [],
   "source": [
    "logon_df.rename(columns={\"activity\":\"activity_logon\"}, inplace=True)"
   ]
  },
  {
   "cell_type": "code",
   "execution_count": 39,
   "id": "0a09bb1f-d69c-4e5b-866e-10202d72d2f1",
   "metadata": {},
   "outputs": [],
   "source": [
    "device_df.rename(columns={\"activity\":\"activity_device\"}, inplace=True)"
   ]
  },
  {
   "cell_type": "code",
   "execution_count": 40,
   "id": "fc63fd34-64c1-41a2-a952-f88f6e0dc5a1",
   "metadata": {},
   "outputs": [
    {
     "data": {
      "text/plain": [
       "(Index(['id', 'date', 'user', 'pc', 'activity_logon'], dtype='object'),\n",
       " Index(['id', 'date', 'user', 'pc', 'activity_device'], dtype='object'))"
      ]
     },
     "execution_count": 40,
     "metadata": {},
     "output_type": "execute_result"
    }
   ],
   "source": [
    "logon_df.columns, device_df.columns"
   ]
  },
  {
   "cell_type": "code",
   "execution_count": 27,
   "id": "d190f8e9-1eb5-4c45-bbd5-de80f6a3cb3d",
   "metadata": {},
   "outputs": [
    {
     "data": {
      "text/plain": [
       "0          Connect\n",
       "1          Connect\n",
       "2          Connect\n",
       "3          Connect\n",
       "4       Disconnect\n",
       "           ...    \n",
       "9995       Connect\n",
       "9996       Connect\n",
       "9997       Connect\n",
       "9998    Disconnect\n",
       "9999       Connect\n",
       "Name: activity_device, Length: 10000, dtype: object"
      ]
     },
     "execution_count": 27,
     "metadata": {},
     "output_type": "execute_result"
    }
   ],
   "source": [
    "device_df['activity_device']"
   ]
  },
  {
   "cell_type": "code",
   "execution_count": 29,
   "id": "4a51e60a-6521-4ee7-aa1e-22be6272f367",
   "metadata": {},
   "outputs": [],
   "source": [
    "# Preprocess data\n",
    "def preprocess_data(logon_df, device_df, http_df):\n",
    "    # Merge datasets on date and user\n",
    "    merged_df = pd.merge(logon_df, device_df, on=['date', 'user'])\n",
    "    merged_df = pd.merge(merged_df, http_df, on=['date', 'user'])\n",
    "\n",
    "    # One-hot encoding for categorical features\n",
    "    encoder = OneHotEncoder()\n",
    "    encoded_pc = encoder.fit_transform(merged_df[['pc']])\n",
    "    encoded_activity_logon = encoder.fit_transform(merged_df['activity_logon'])\n",
    "    encoded_activity_device = encoder.fit_transform(merged_df['activity_device'])\n",
    "    encoded_url = encoder.fit_transform(merged_df[['url']])\n",
    "\n",
    "    # Create unified feature set\n",
    "    features = np.concatenate((encoded_pc, encoded_activity_logon, encoded_activity_device, encoded_url), axis=1)\n",
    "\n",
    "    return features"
   ]
  },
  {
   "cell_type": "code",
   "execution_count": 31,
   "id": "3cb959f9-1e44-4eee-8dfb-023e4d40e213",
   "metadata": {},
   "outputs": [],
   "source": [
    "# features = preprocess_data(logon_df, device_df, http_df)"
   ]
  },
  {
   "cell_type": "code",
   "execution_count": 32,
   "id": "58a4a8c0-1a21-4a1a-8fe4-5bcc37220691",
   "metadata": {},
   "outputs": [],
   "source": [
    "encoder = OneHotEncoder()"
   ]
  },
  {
   "cell_type": "code",
   "execution_count": 56,
   "id": "a6aee5ce-7650-4ae3-96e3-85cfbd991390",
   "metadata": {},
   "outputs": [],
   "source": [
    "device_activity = encoder.fit_transform(np.array(device_df['activity_device']).reshape(-1, 1))"
   ]
  },
  {
   "cell_type": "code",
   "execution_count": 57,
   "id": "4e54bdfc-a974-4fbb-91f3-8b42ab581d8e",
   "metadata": {},
   "outputs": [
    {
     "data": {
      "text/plain": [
       "array([1., 0.])"
      ]
     },
     "execution_count": 57,
     "metadata": {},
     "output_type": "execute_result"
    }
   ],
   "source": [
    "device_activity.toarray()[0]"
   ]
  },
  {
   "cell_type": "code",
   "execution_count": 34,
   "id": "84f4d06f-6edb-4a98-8654-30581bcc4216",
   "metadata": {},
   "outputs": [
    {
     "data": {
      "text/html": [
       "<div>\n",
       "<style scoped>\n",
       "    .dataframe tbody tr th:only-of-type {\n",
       "        vertical-align: middle;\n",
       "    }\n",
       "\n",
       "    .dataframe tbody tr th {\n",
       "        vertical-align: top;\n",
       "    }\n",
       "\n",
       "    .dataframe thead th {\n",
       "        text-align: right;\n",
       "    }\n",
       "</style>\n",
       "<table border=\"1\" class=\"dataframe\">\n",
       "  <thead>\n",
       "    <tr style=\"text-align: right;\">\n",
       "      <th></th>\n",
       "      <th>id_x</th>\n",
       "      <th>date</th>\n",
       "      <th>user</th>\n",
       "      <th>pc_x</th>\n",
       "      <th>activity_logon</th>\n",
       "      <th>id_y</th>\n",
       "      <th>pc_y</th>\n",
       "      <th>activity_device</th>\n",
       "      <th>id</th>\n",
       "      <th>pc</th>\n",
       "      <th>url</th>\n",
       "    </tr>\n",
       "  </thead>\n",
       "  <tbody>\n",
       "  </tbody>\n",
       "</table>\n",
       "</div>"
      ],
      "text/plain": [
       "Empty DataFrame\n",
       "Columns: [id_x, date, user, pc_x, activity_logon, id_y, pc_y, activity_device, id, pc, url]\n",
       "Index: []"
      ]
     },
     "execution_count": 34,
     "metadata": {},
     "output_type": "execute_result"
    }
   ],
   "source": [
    "merged_df.head()"
   ]
  },
  {
   "cell_type": "code",
   "execution_count": null,
   "id": "e576ca16-91b8-4330-a06e-c0e6ac9de039",
   "metadata": {},
   "outputs": [],
   "source": []
  }
 ],
 "metadata": {
  "kernelspec": {
   "display_name": "Python 3 (ipykernel)",
   "language": "python",
   "name": "python3"
  },
  "language_info": {
   "codemirror_mode": {
    "name": "ipython",
    "version": 3
   },
   "file_extension": ".py",
   "mimetype": "text/x-python",
   "name": "python",
   "nbconvert_exporter": "python",
   "pygments_lexer": "ipython3",
   "version": "3.11.5"
  }
 },
 "nbformat": 4,
 "nbformat_minor": 5
}
